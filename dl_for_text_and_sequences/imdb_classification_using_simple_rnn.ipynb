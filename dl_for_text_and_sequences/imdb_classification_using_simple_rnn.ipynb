{
 "cells": [
  {
   "cell_type": "code",
   "execution_count": 16,
   "id": "1c0bb8cf",
   "metadata": {},
   "outputs": [],
   "source": [
    "from keras import layers, models\n",
    "from keras.datasets import imdb\n",
    "from keras.utils import to_categorical\n",
    "from keras.utils import pad_sequences"
   ]
  },
  {
   "cell_type": "code",
   "execution_count": 17,
   "id": "5acc519e",
   "metadata": {},
   "outputs": [],
   "source": [
    "num_words = 10000\n",
    "maxlen = 500"
   ]
  },
  {
   "cell_type": "code",
   "execution_count": 18,
   "id": "133f29d7",
   "metadata": {},
   "outputs": [],
   "source": [
    "(x_train, y_train), (x_test, y_test) = imdb.load_data(num_words = num_words)"
   ]
  },
  {
   "cell_type": "code",
   "execution_count": 19,
   "id": "3a42c8b1",
   "metadata": {},
   "outputs": [],
   "source": [
    "y_train = y_train.astype('float64')\n",
    "y_test = y_train.astype('float64')"
   ]
  },
  {
   "cell_type": "code",
   "execution_count": 20,
   "id": "0058aa83",
   "metadata": {},
   "outputs": [],
   "source": [
    "x_train = pad_sequences(x_train, maxlen = maxlen)\n",
    "x_test = pad_sequences(x_test, maxlen = maxlen)"
   ]
  },
  {
   "cell_type": "code",
   "execution_count": 21,
   "id": "51e62a4c",
   "metadata": {},
   "outputs": [],
   "source": [
    "def get_model():\n",
    "    model = models.Sequential()\n",
    "    model.add(layers.Embedding(num_words, 32))\n",
    "    model.add(layers.SimpleRNN(32))\n",
    "    model.add(layers.Dense(1, activation = 'sigmoid'))\n",
    "    \n",
    "    model.compile(\n",
    "        optimizer = 'rmsprop',\n",
    "        loss = 'binary_crossentropy',\n",
    "        metrics = ['acc']\n",
    "    )\n",
    "    return model"
   ]
  },
  {
   "cell_type": "code",
   "execution_count": 22,
   "id": "ab6d5d3e",
   "metadata": {},
   "outputs": [],
   "source": [
    "model = get_model()"
   ]
  },
  {
   "cell_type": "code",
   "execution_count": 23,
   "id": "986ffaad",
   "metadata": {},
   "outputs": [
    {
     "name": "stdout",
     "output_type": "stream",
     "text": [
      "Model: \"sequential_2\"\n",
      "_________________________________________________________________\n",
      " Layer (type)                Output Shape              Param #   \n",
      "=================================================================\n",
      " embedding_2 (Embedding)     (None, None, 32)          320000    \n",
      "                                                                 \n",
      " simple_rnn_2 (SimpleRNN)    (None, 32)                2080      \n",
      "                                                                 \n",
      " dense_1 (Dense)             (None, 1)                 33        \n",
      "                                                                 \n",
      "=================================================================\n",
      "Total params: 322,113\n",
      "Trainable params: 322,113\n",
      "Non-trainable params: 0\n",
      "_________________________________________________________________\n"
     ]
    }
   ],
   "source": [
    "model.summary()"
   ]
  },
  {
   "cell_type": "code",
   "execution_count": 24,
   "id": "054c6712",
   "metadata": {},
   "outputs": [
    {
     "name": "stdout",
     "output_type": "stream",
     "text": [
      "Epoch 1/10\n",
      "157/157 [==============================] - 16s 94ms/step - loss: 0.5865 - acc: 0.6838 - val_loss: 0.4308 - val_acc: 0.8272\n",
      "Epoch 2/10\n",
      "157/157 [==============================] - 16s 100ms/step - loss: 0.3652 - acc: 0.8501 - val_loss: 0.3605 - val_acc: 0.8570\n",
      "Epoch 3/10\n",
      "157/157 [==============================] - 17s 106ms/step - loss: 0.2841 - acc: 0.8889 - val_loss: 0.3400 - val_acc: 0.8660\n",
      "Epoch 4/10\n",
      "157/157 [==============================] - 16s 100ms/step - loss: 0.2279 - acc: 0.9153 - val_loss: 0.7168 - val_acc: 0.7698\n",
      "Epoch 5/10\n",
      "157/157 [==============================] - 18s 115ms/step - loss: 0.1721 - acc: 0.9362 - val_loss: 0.4216 - val_acc: 0.8172\n",
      "Epoch 6/10\n",
      "157/157 [==============================] - 16s 102ms/step - loss: 0.1281 - acc: 0.9570 - val_loss: 0.3903 - val_acc: 0.8444\n",
      "Epoch 7/10\n",
      "157/157 [==============================] - 17s 110ms/step - loss: 0.0867 - acc: 0.9708 - val_loss: 0.4961 - val_acc: 0.8174\n",
      "Epoch 8/10\n",
      "157/157 [==============================] - 16s 100ms/step - loss: 0.0591 - acc: 0.9821 - val_loss: 0.5398 - val_acc: 0.8466\n",
      "Epoch 9/10\n",
      "157/157 [==============================] - 17s 108ms/step - loss: 0.0443 - acc: 0.9862 - val_loss: 0.5274 - val_acc: 0.8604\n",
      "Epoch 10/10\n",
      "157/157 [==============================] - 16s 102ms/step - loss: 0.0340 - acc: 0.9897 - val_loss: 0.6463 - val_acc: 0.8176\n"
     ]
    }
   ],
   "source": [
    "history = model.fit(\n",
    "    x_train,\n",
    "    y_train,\n",
    "    epochs = 10,\n",
    "    validation_split = 0.2,\n",
    "    batch_size = 128\n",
    ")"
   ]
  },
  {
   "cell_type": "code",
   "execution_count": 25,
   "id": "55b70275",
   "metadata": {},
   "outputs": [
    {
     "name": "stdout",
     "output_type": "stream",
     "text": [
      "782/782 [==============================] - 14s 18ms/step - loss: 2.4643 - acc: 0.4982\n"
     ]
    }
   ],
   "source": [
    "met = model.evaluate(x_test, y_test)"
   ]
  },
  {
   "cell_type": "code",
   "execution_count": null,
   "id": "80fb3ce3",
   "metadata": {},
   "outputs": [],
   "source": []
  },
  {
   "cell_type": "code",
   "execution_count": null,
   "id": "f094b62c",
   "metadata": {},
   "outputs": [],
   "source": []
  }
 ],
 "metadata": {
  "kernelspec": {
   "display_name": "Python 3 (ipykernel)",
   "language": "python",
   "name": "python3"
  },
  "language_info": {
   "codemirror_mode": {
    "name": "ipython",
    "version": 3
   },
   "file_extension": ".py",
   "mimetype": "text/x-python",
   "name": "python",
   "nbconvert_exporter": "python",
   "pygments_lexer": "ipython3",
   "version": "3.8.10"
  }
 },
 "nbformat": 4,
 "nbformat_minor": 5
}
