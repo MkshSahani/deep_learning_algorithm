{
 "cells": [
  {
   "cell_type": "code",
   "execution_count": 3,
   "id": "c06b7863",
   "metadata": {},
   "outputs": [],
   "source": [
    "from keras import layers, models\n",
    "from keras.utils import pad_sequences"
   ]
  },
  {
   "cell_type": "code",
   "execution_count": 4,
   "id": "b6f24223",
   "metadata": {},
   "outputs": [],
   "source": [
    "from keras.datasets import imdb"
   ]
  },
  {
   "cell_type": "code",
   "execution_count": 5,
   "id": "8ee9421f",
   "metadata": {},
   "outputs": [],
   "source": [
    "(x_train, y_train), (x_test, y_test) = imdb.load_data(num_words = 10000)"
   ]
  },
  {
   "cell_type": "code",
   "execution_count": 6,
   "id": "32ba6549",
   "metadata": {},
   "outputs": [],
   "source": [
    "maxlen = 20"
   ]
  },
  {
   "cell_type": "code",
   "execution_count": 8,
   "id": "ea6bfe68",
   "metadata": {},
   "outputs": [],
   "source": [
    "x_train = pad_sequences(x_train, maxlen = maxlen)"
   ]
  },
  {
   "cell_type": "code",
   "execution_count": 9,
   "id": "ed2d1b76",
   "metadata": {},
   "outputs": [],
   "source": [
    "x_test = pad_sequences(x_test, maxlen = maxlen)"
   ]
  },
  {
   "cell_type": "code",
   "execution_count": 10,
   "id": "f0468967",
   "metadata": {},
   "outputs": [],
   "source": [
    "y_train = y_train.astype('float64')"
   ]
  },
  {
   "cell_type": "code",
   "execution_count": 11,
   "id": "57b8fe91",
   "metadata": {},
   "outputs": [],
   "source": [
    "y_test = y_test.astype('float64')"
   ]
  },
  {
   "cell_type": "code",
   "execution_count": 12,
   "id": "84b13a57",
   "metadata": {},
   "outputs": [],
   "source": [
    "x_train = x_train.astype('float64')\n",
    "x_test = x_test.astype('float64')"
   ]
  },
  {
   "cell_type": "code",
   "execution_count": 15,
   "id": "d81d847b",
   "metadata": {},
   "outputs": [],
   "source": [
    "def get_model():\n",
    "    model = models.Sequential()\n",
    "    model.add(layers.Embedding(10000, 8, input_length = maxlen))\n",
    "    model.add(layers.Flatten())\n",
    "    model.add(layers.Dense(1, activation = 'sigmoid'))\n",
    "    \n",
    "    model.compile(\n",
    "        optimizer = 'rmsprop',\n",
    "        loss = 'binary_crossentropy',\n",
    "        metrics = ['acc']\n",
    "    )\n",
    "    \n",
    "    return model"
   ]
  },
  {
   "cell_type": "code",
   "execution_count": 16,
   "id": "2a95a0d5",
   "metadata": {},
   "outputs": [],
   "source": [
    "model = get_model()"
   ]
  },
  {
   "cell_type": "code",
   "execution_count": 17,
   "id": "e4b0628b",
   "metadata": {},
   "outputs": [
    {
     "name": "stdout",
     "output_type": "stream",
     "text": [
      "Model: \"sequential_1\"\n",
      "_________________________________________________________________\n",
      " Layer (type)                Output Shape              Param #   \n",
      "=================================================================\n",
      " embedding_1 (Embedding)     (None, 20, 8)             80000     \n",
      "                                                                 \n",
      " flatten_1 (Flatten)         (None, 160)               0         \n",
      "                                                                 \n",
      " dense_1 (Dense)             (None, 1)                 161       \n",
      "                                                                 \n",
      "=================================================================\n",
      "Total params: 80,161\n",
      "Trainable params: 80,161\n",
      "Non-trainable params: 0\n",
      "_________________________________________________________________\n"
     ]
    }
   ],
   "source": [
    "model.summary()"
   ]
  },
  {
   "cell_type": "code",
   "execution_count": 19,
   "id": "3b4226ac",
   "metadata": {},
   "outputs": [
    {
     "name": "stdout",
     "output_type": "stream",
     "text": [
      "Epoch 1/10\n",
      "625/625 [==============================] - 1s 2ms/step - loss: 0.6725 - acc: 0.6141 - val_loss: 0.6250 - val_acc: 0.6910\n",
      "Epoch 2/10\n",
      "625/625 [==============================] - 1s 1ms/step - loss: 0.5435 - acc: 0.7508 - val_loss: 0.5264 - val_acc: 0.7274\n",
      "Epoch 3/10\n",
      "625/625 [==============================] - 1s 1ms/step - loss: 0.4606 - acc: 0.7867 - val_loss: 0.5038 - val_acc: 0.7444\n",
      "Epoch 4/10\n",
      "625/625 [==============================] - 1s 1ms/step - loss: 0.4223 - acc: 0.8082 - val_loss: 0.4970 - val_acc: 0.7512\n",
      "Epoch 5/10\n",
      "625/625 [==============================] - 1s 1ms/step - loss: 0.3971 - acc: 0.8201 - val_loss: 0.4978 - val_acc: 0.7524\n",
      "Epoch 6/10\n",
      "625/625 [==============================] - 1s 1ms/step - loss: 0.3764 - acc: 0.8310 - val_loss: 0.5019 - val_acc: 0.7560\n",
      "Epoch 7/10\n",
      "625/625 [==============================] - 1s 1ms/step - loss: 0.3587 - acc: 0.8430 - val_loss: 0.5067 - val_acc: 0.7532\n",
      "Epoch 8/10\n",
      "625/625 [==============================] - 1s 1ms/step - loss: 0.3412 - acc: 0.8540 - val_loss: 0.5134 - val_acc: 0.7530\n",
      "Epoch 9/10\n",
      "625/625 [==============================] - 1s 1ms/step - loss: 0.3239 - acc: 0.8640 - val_loss: 0.5198 - val_acc: 0.7488\n",
      "Epoch 10/10\n",
      "625/625 [==============================] - 1s 1ms/step - loss: 0.3070 - acc: 0.8734 - val_loss: 0.5269 - val_acc: 0.7452\n"
     ]
    }
   ],
   "source": [
    "history = model.fit(\n",
    "    x_train,\n",
    "    y_train,\n",
    "    epochs = 10,\n",
    "    batch_size = 32,\n",
    "    validation_split = 0.2\n",
    ")"
   ]
  },
  {
   "cell_type": "code",
   "execution_count": 21,
   "id": "d23fe628",
   "metadata": {},
   "outputs": [
    {
     "data": {
      "image/png": "[encoded data removed]",
      "text/plain": [
       "<Figure size 432x288 with 1 Axes>"
      ]
     },
     "metadata": {
      "needs_background": "light"
     },
     "output_type": "display_data"
    }
   ],
   "source": [
    "import matplotlib.pyplot as plt\n",
    "plt.scatter(range(len(history.history['loss'])), history.history['loss'], label = 'Training Loss')\n",
    "plt.plot(range(len(history.history['val_loss'])), history.history['val_loss'], label = 'Validation Loss')\n",
    "plt.legend()\n",
    "plt.show()"
   ]
  },
  {
   "cell_type": "code",
   "execution_count": 22,
   "id": "5eef2df5",
   "metadata": {},
   "outputs": [
    {
     "data": {
      "image/png": "[encoded data removed]",
      "text/plain": [
       "<Figure size 432x288 with 1 Axes>"
      ]
     },
     "metadata": {
      "needs_background": "light"
     },
     "output_type": "display_data"
    }
   ],
   "source": [
    "plt.scatter(range(len(history.history['acc'])), history.history['acc'], label = 'Training Accuracy')\n",
    "plt.plot(range(len(history.history['val_acc'])), history.history['val_acc'], label = 'Validation Accuracy')\n",
    "plt.legend()\n",
    "plt.show()"
   ]
  },
  {
   "cell_type": "code",
   "execution_count": null,
   "id": "fb902bd5",
   "metadata": {},
   "outputs": [],
   "source": []
  }
 ],
 "metadata": {
  "kernelspec": {
   "display_name": "Python 3 (ipykernel)",
   "language": "python",
   "name": "python3"
  },
  "language_info": {
   "codemirror_mode": {
    "name": "ipython",
    "version": 3
   },
   "file_extension": ".py",
   "mimetype": "text/x-python",
   "name": "python",
   "nbconvert_exporter": "python",
   "pygments_lexer": "ipython3",
   "version": "3.8.10"
  }
 },
 "nbformat": 4,
 "nbformat_minor": 5
}
