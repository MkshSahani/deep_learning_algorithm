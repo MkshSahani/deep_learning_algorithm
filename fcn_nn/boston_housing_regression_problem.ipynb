{
 "cells": [
  {
   "cell_type": "code",
   "execution_count": 2,
   "id": "7ab0bcbb",
   "metadata": {},
   "outputs": [],
   "source": [
    "from keras.datasets import boston_housing"
   ]
  },
  {
   "cell_type": "code",
   "execution_count": 3,
   "id": "d119e066",
   "metadata": {},
   "outputs": [],
   "source": [
    "(train_data, train_target), (test_data, test_target) = boston_housing.load_data()"
   ]
  },
  {
   "cell_type": "code",
   "execution_count": 4,
   "id": "c2a68d5c",
   "metadata": {},
   "outputs": [],
   "source": [
    "import numpy as np"
   ]
  },
  {
   "cell_type": "code",
   "execution_count": 5,
   "id": "71e4d723",
   "metadata": {},
   "outputs": [],
   "source": [
    "mean = train_data.mean(axis = 0)"
   ]
  },
  {
   "cell_type": "code",
   "execution_count": 6,
   "id": "6388c595",
   "metadata": {},
   "outputs": [],
   "source": [
    "train_data -= mean"
   ]
  },
  {
   "cell_type": "code",
   "execution_count": 7,
   "id": "64e05c13",
   "metadata": {},
   "outputs": [],
   "source": [
    "std = train_data.std(axis = 0)"
   ]
  },
  {
   "cell_type": "code",
   "execution_count": 8,
   "id": "6ff5946b",
   "metadata": {},
   "outputs": [],
   "source": [
    "train_data /= std"
   ]
  },
  {
   "cell_type": "code",
   "execution_count": 9,
   "id": "b4a1d3e9",
   "metadata": {},
   "outputs": [],
   "source": [
    "from keras import models, layers"
   ]
  },
  {
   "cell_type": "code",
   "execution_count": 15,
   "id": "e8bd04f7",
   "metadata": {},
   "outputs": [],
   "source": [
    "def build_model():\n",
    "    network = models.Sequential()\n",
    "    network.add(layers.Dense(64, activation = 'relu', input_shape = (train_data.shape[-1], )))\n",
    "    network.add(layers.Dense(64, activation = 'relu'))\n",
    "    network.add(layers.Dense(1))\n",
    "    network.compile(\n",
    "        optimizer = 'rmsprop',\n",
    "        loss = 'mse',\n",
    "        metrics = ['acc']\n",
    "    )\n",
    "    return network"
   ]
  },
  {
   "cell_type": "code",
   "execution_count": 16,
   "id": "b7dd73ec",
   "metadata": {},
   "outputs": [],
   "source": [
    "network = build_model()"
   ]
  },
  {
   "cell_type": "code",
   "execution_count": null,
   "id": "15d2d0ef",
   "metadata": {},
   "outputs": [],
   "source": [
    "hist = network.fit(train_data, train_target, )"
   ]
  }
 ],
 "metadata": {
  "kernelspec": {
   "display_name": "Python 3 (ipykernel)",
   "language": "python",
   "name": "python3"
  },
  "language_info": {
   "codemirror_mode": {
    "name": "ipython",
    "version": 3
   },
   "file_extension": ".py",
   "mimetype": "text/x-python",
   "name": "python",
   "nbconvert_exporter": "python",
   "pygments_lexer": "ipython3",
   "version": "3.8.10"
  }
 },
 "nbformat": 4,
 "nbformat_minor": 5
}
