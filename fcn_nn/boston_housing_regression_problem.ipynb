{
 "cells": [
  {
   "cell_type": "code",
   "execution_count": 1,
   "id": "7ab0bcbb",
   "metadata": {},
   "outputs": [
    {
     "name": "stderr",
     "output_type": "stream",
     "text": [
      "2024-06-09 16:05:54.778993: I tensorflow/core/platform/cpu_feature_guard.cc:193] This TensorFlow binary is optimized with oneAPI Deep Neural Network Library (oneDNN) to use the following CPU instructions in performance-critical operations:  AVX2 FMA\n",
      "To enable them in other operations, rebuild TensorFlow with the appropriate compiler flags.\n",
      "2024-06-09 16:05:55.310313: W tensorflow/stream_executor/platform/default/dso_loader.cc:64] Could not load dynamic library 'libcudart.so.11.0'; dlerror: libcudart.so.11.0: cannot open shared object file: No such file or directory\n",
      "2024-06-09 16:05:55.310387: I tensorflow/stream_executor/cuda/cudart_stub.cc:29] Ignore above cudart dlerror if you do not have a GPU set up on your machine.\n",
      "2024-06-09 16:05:55.384337: E tensorflow/stream_executor/cuda/cuda_blas.cc:2981] Unable to register cuBLAS factory: Attempting to register factory for plugin cuBLAS when one has already been registered\n",
      "2024-06-09 16:05:56.585977: W tensorflow/stream_executor/platform/default/dso_loader.cc:64] Could not load dynamic library 'libnvinfer.so.7'; dlerror: libnvinfer.so.7: cannot open shared object file: No such file or directory\n",
      "2024-06-09 16:05:56.586079: W tensorflow/stream_executor/platform/default/dso_loader.cc:64] Could not load dynamic library 'libnvinfer_plugin.so.7'; dlerror: libnvinfer_plugin.so.7: cannot open shared object file: No such file or directory\n",
      "2024-06-09 16:05:56.586091: W tensorflow/compiler/tf2tensorrt/utils/py_utils.cc:38] TF-TRT Warning: Cannot dlopen some TensorRT libraries. If you would like to use Nvidia GPU with TensorRT, please make sure the missing libraries mentioned above are installed properly.\n",
      "/usr/lib/python3/dist-packages/requests/__init__.py:89: RequestsDependencyWarning: urllib3 (2.0.5) or chardet (3.0.4) doesn't match a supported version!\n",
      "  warnings.warn(\"urllib3 ({}) or chardet ({}) doesn't match a supported \"\n"
     ]
    }
   ],
   "source": [
    "from keras.datasets import boston_housing"
   ]
  },
  {
   "cell_type": "code",
   "execution_count": 2,
   "id": "d119e066",
   "metadata": {},
   "outputs": [],
   "source": [
    "(train_data, train_target), (test_data, test_target) = boston_housing.load_data()"
   ]
  },
  {
   "cell_type": "code",
   "execution_count": 3,
   "id": "c2a68d5c",
   "metadata": {},
   "outputs": [],
   "source": [
    "import numpy as np"
   ]
  },
  {
   "cell_type": "code",
   "execution_count": 4,
   "id": "71e4d723",
   "metadata": {},
   "outputs": [],
   "source": [
    "mean = train_data.mean(axis = 0)"
   ]
  },
  {
   "cell_type": "code",
   "execution_count": 5,
   "id": "6388c595",
   "metadata": {},
   "outputs": [],
   "source": [
    "train_data -= mean"
   ]
  },
  {
   "cell_type": "code",
   "execution_count": 6,
   "id": "64e05c13",
   "metadata": {},
   "outputs": [],
   "source": [
    "std = train_data.std(axis = 0)"
   ]
  },
  {
   "cell_type": "code",
   "execution_count": 7,
   "id": "6ff5946b",
   "metadata": {},
   "outputs": [],
   "source": [
    "train_data /= std"
   ]
  },
  {
   "cell_type": "code",
   "execution_count": 8,
   "id": "b4a1d3e9",
   "metadata": {},
   "outputs": [],
   "source": [
    "from keras import models, layers"
   ]
  },
  {
   "cell_type": "code",
   "execution_count": 15,
   "id": "e8bd04f7",
   "metadata": {},
   "outputs": [],
   "source": [
    "def build_model():\n",
    "    network = models.Sequential()\n",
    "    network.add(layers.Dense(64, activation = 'relu', input_shape = (train_data.shape[-1], )))\n",
    "    network.add(layers.Dense(64, activation = 'relu'))\n",
    "    network.add(layers.Dense(1))\n",
    "    network.compile(\n",
    "        optimizer = 'rmsprop',\n",
    "        loss = 'mse',\n",
    "        metrics = ['mae']\n",
    "    )\n",
    "    return network"
   ]
  },
  {
   "cell_type": "code",
   "execution_count": 25,
   "id": "b7dd73ec",
   "metadata": {},
   "outputs": [],
   "source": [
    "network = build_model()"
   ]
  },
  {
   "cell_type": "code",
   "execution_count": 26,
   "id": "15d2d0ef",
   "metadata": {},
   "outputs": [
    {
     "name": "stdout",
     "output_type": "stream",
     "text": [
      "Epoch 1/40\n",
      "6/6 [==============================] - 0s 24ms/step - loss: 554.5720 - mae: 21.6354 - val_loss: 598.4470 - val_mae: 22.6315\n",
      "Epoch 2/40\n",
      "6/6 [==============================] - 0s 6ms/step - loss: 511.6594 - mae: 20.6246 - val_loss: 561.4786 - val_mae: 21.7823\n",
      "Epoch 3/40\n",
      "6/6 [==============================] - 0s 6ms/step - loss: 475.2423 - mae: 19.7223 - val_loss: 515.7695 - val_mae: 20.7179\n",
      "Epoch 4/40\n",
      "6/6 [==============================] - 0s 6ms/step - loss: 432.2759 - mae: 18.6453 - val_loss: 473.0943 - val_mae: 19.7299\n",
      "Epoch 5/40\n",
      "6/6 [==============================] - 0s 6ms/step - loss: 391.3235 - mae: 17.5978 - val_loss: 425.7860 - val_mae: 18.5832\n",
      "Epoch 6/40\n",
      "6/6 [==============================] - 0s 6ms/step - loss: 346.1543 - mae: 16.3998 - val_loss: 383.0145 - val_mae: 17.5048\n",
      "Epoch 7/40\n",
      "6/6 [==============================] - 0s 6ms/step - loss: 306.2930 - mae: 15.2956 - val_loss: 332.9604 - val_mae: 16.1153\n",
      "Epoch 8/40\n",
      "6/6 [==============================] - 0s 7ms/step - loss: 260.5738 - mae: 13.9564 - val_loss: 284.0241 - val_mae: 14.6355\n",
      "Epoch 9/40\n",
      "6/6 [==============================] - 0s 6ms/step - loss: 216.8685 - mae: 12.5263 - val_loss: 239.5959 - val_mae: 13.1842\n",
      "Epoch 10/40\n",
      "6/6 [==============================] - 0s 7ms/step - loss: 178.6834 - mae: 11.1787 - val_loss: 193.6306 - val_mae: 11.5537\n",
      "Epoch 11/40\n",
      "6/6 [==============================] - 0s 7ms/step - loss: 141.3863 - mae: 9.6740 - val_loss: 158.9247 - val_mae: 10.1437\n",
      "Epoch 12/40\n",
      "6/6 [==============================] - 0s 6ms/step - loss: 114.3274 - mae: 8.5435 - val_loss: 128.7367 - val_mae: 8.8589\n",
      "Epoch 13/40\n",
      "6/6 [==============================] - 0s 6ms/step - loss: 92.1378 - mae: 7.5083 - val_loss: 103.6599 - val_mae: 7.7847\n",
      "Epoch 14/40\n",
      "6/6 [==============================] - 0s 6ms/step - loss: 74.7673 - mae: 6.7088 - val_loss: 80.9059 - val_mae: 6.8152\n",
      "Epoch 15/40\n",
      "6/6 [==============================] - 0s 6ms/step - loss: 60.1327 - mae: 5.9333 - val_loss: 65.2021 - val_mae: 6.0639\n",
      "Epoch 16/40\n",
      "6/6 [==============================] - 0s 9ms/step - loss: 50.5183 - mae: 5.3507 - val_loss: 53.3399 - val_mae: 5.4483\n",
      "Epoch 17/40\n",
      "6/6 [==============================] - 0s 6ms/step - loss: 43.3340 - mae: 4.8456 - val_loss: 45.2283 - val_mae: 5.0782\n",
      "Epoch 18/40\n",
      "6/6 [==============================] - 0s 6ms/step - loss: 38.5505 - mae: 4.5469 - val_loss: 39.8705 - val_mae: 4.7842\n",
      "Epoch 19/40\n",
      "6/6 [==============================] - 0s 7ms/step - loss: 35.3335 - mae: 4.3498 - val_loss: 35.7217 - val_mae: 4.5296\n",
      "Epoch 20/40\n",
      "6/6 [==============================] - 0s 9ms/step - loss: 32.3261 - mae: 4.1034 - val_loss: 32.8354 - val_mae: 4.2920\n",
      "Epoch 21/40\n",
      "6/6 [==============================] - 0s 7ms/step - loss: 29.8456 - mae: 3.8698 - val_loss: 29.7868 - val_mae: 4.1813\n",
      "Epoch 22/40\n",
      "6/6 [==============================] - 0s 6ms/step - loss: 28.2705 - mae: 3.8113 - val_loss: 28.1169 - val_mae: 4.0586\n",
      "Epoch 23/40\n",
      "6/6 [==============================] - 0s 6ms/step - loss: 26.7547 - mae: 3.6532 - val_loss: 27.1222 - val_mae: 3.9434\n",
      "Epoch 24/40\n",
      "6/6 [==============================] - 0s 6ms/step - loss: 25.6588 - mae: 3.5667 - val_loss: 25.3964 - val_mae: 3.7966\n",
      "Epoch 25/40\n",
      "6/6 [==============================] - 0s 6ms/step - loss: 24.4779 - mae: 3.4071 - val_loss: 25.9703 - val_mae: 3.7649\n",
      "Epoch 26/40\n",
      "6/6 [==============================] - 0s 6ms/step - loss: 24.0151 - mae: 3.3690 - val_loss: 23.9366 - val_mae: 3.6591\n",
      "Epoch 27/40\n",
      "6/6 [==============================] - 0s 7ms/step - loss: 23.1584 - mae: 3.3064 - val_loss: 22.5703 - val_mae: 3.6806\n",
      "Epoch 28/40\n",
      "6/6 [==============================] - 0s 7ms/step - loss: 22.2265 - mae: 3.2767 - val_loss: 21.7177 - val_mae: 3.5924\n",
      "Epoch 29/40\n",
      "6/6 [==============================] - 0s 7ms/step - loss: 21.6797 - mae: 3.2156 - val_loss: 21.3397 - val_mae: 3.3996\n",
      "Epoch 30/40\n",
      "6/6 [==============================] - 0s 7ms/step - loss: 21.0361 - mae: 3.1097 - val_loss: 20.1470 - val_mae: 3.4385\n",
      "Epoch 31/40\n",
      "6/6 [==============================] - 0s 6ms/step - loss: 20.3471 - mae: 3.0973 - val_loss: 19.1630 - val_mae: 3.4567\n",
      "Epoch 32/40\n",
      "6/6 [==============================] - 0s 7ms/step - loss: 19.5775 - mae: 3.1058 - val_loss: 19.2852 - val_mae: 3.3578\n",
      "Epoch 33/40\n",
      "6/6 [==============================] - 0s 6ms/step - loss: 19.3510 - mae: 3.0448 - val_loss: 18.2715 - val_mae: 3.2667\n",
      "Epoch 34/40\n",
      "6/6 [==============================] - 0s 6ms/step - loss: 18.5907 - mae: 2.9673 - val_loss: 17.7037 - val_mae: 3.2314\n",
      "Epoch 35/40\n",
      "6/6 [==============================] - 0s 7ms/step - loss: 18.4720 - mae: 2.9569 - val_loss: 17.5029 - val_mae: 3.2363\n",
      "Epoch 36/40\n",
      "6/6 [==============================] - 0s 6ms/step - loss: 17.7557 - mae: 2.9199 - val_loss: 18.0889 - val_mae: 3.3694\n",
      "Epoch 37/40\n",
      "6/6 [==============================] - 0s 7ms/step - loss: 17.6168 - mae: 2.9303 - val_loss: 16.8213 - val_mae: 3.1806\n",
      "Epoch 38/40\n",
      "6/6 [==============================] - 0s 6ms/step - loss: 16.9193 - mae: 2.8357 - val_loss: 16.6272 - val_mae: 3.1313\n",
      "Epoch 39/40\n",
      "6/6 [==============================] - 0s 7ms/step - loss: 16.5632 - mae: 2.7735 - val_loss: 16.8520 - val_mae: 3.1849\n",
      "Epoch 40/40\n",
      "6/6 [==============================] - 0s 6ms/step - loss: 16.2013 - mae: 2.7473 - val_loss: 15.6858 - val_mae: 3.0801\n"
     ]
    }
   ],
   "source": [
    "hist = network.fit(train_data, train_target, batch_size = 64, epochs = 40, validation_split = 0.2)"
   ]
  },
  {
   "cell_type": "code",
   "execution_count": 27,
   "id": "af9f50c8",
   "metadata": {},
   "outputs": [
    {
     "data": {
      "image/png": "[encoded data removed]",
      "text/plain": [
       "<Figure size 432x288 with 1 Axes>"
      ]
     },
     "metadata": {
      "needs_background": "light"
     },
     "output_type": "display_data"
    }
   ],
   "source": [
    "hist = hist.history\n",
    "import matplotlib.pyplot as plt\n",
    "plt.plot(range(len(hist['val_loss'])), hist['val_loss'], label = 'Validation Loss')\n",
    "plt.scatter(range(len(hist['loss'])), hist['loss'], label = 'Training Loss')\n",
    "plt.legend()\n",
    "plt.show()"
   ]
  },
  {
   "cell_type": "code",
   "execution_count": null,
   "id": "2383db16",
   "metadata": {},
   "outputs": [],
   "source": []
  }
 ],
 "metadata": {
  "kernelspec": {
   "display_name": "Python 3 (ipykernel)",
   "language": "python",
   "name": "python3"
  },
  "language_info": {
   "codemirror_mode": {
    "name": "ipython",
    "version": 3
   },
   "file_extension": ".py",
   "mimetype": "text/x-python",
   "name": "python",
   "nbconvert_exporter": "python",
   "pygments_lexer": "ipython3",
   "version": "3.8.10"
  }
 },
 "nbformat": 4,
 "nbformat_minor": 5
}
