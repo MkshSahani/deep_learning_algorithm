{
 "cells": [
  {
   "cell_type": "code",
   "execution_count": 2,
   "id": "5eafdc9a",
   "metadata": {},
   "outputs": [],
   "source": [
    "from keras.datasets import reuters"
   ]
  },
  {
   "cell_type": "code",
   "execution_count": 4,
   "id": "ad28da3d",
   "metadata": {},
   "outputs": [],
   "source": [
    "(x_train, y_train), (x_test, y_test) = reuters.load_data(num_words = 10000)"
   ]
  },
  {
   "cell_type": "code",
   "execution_count": 5,
   "id": "d9347e67",
   "metadata": {},
   "outputs": [
    {
     "data": {
      "text/plain": [
       "(8982,)"
      ]
     },
     "execution_count": 5,
     "metadata": {},
     "output_type": "execute_result"
    }
   ],
   "source": [
    "x_train.shape"
   ]
  },
  {
   "cell_type": "code",
   "execution_count": 6,
   "id": "c81cf2a6",
   "metadata": {},
   "outputs": [
    {
     "data": {
      "text/plain": [
       "(8982,)"
      ]
     },
     "execution_count": 6,
     "metadata": {},
     "output_type": "execute_result"
    }
   ],
   "source": [
    "y_train.shape"
   ]
  },
  {
   "cell_type": "code",
   "execution_count": 7,
   "id": "77c32994",
   "metadata": {},
   "outputs": [],
   "source": [
    "import numpy as np"
   ]
  },
  {
   "cell_type": "code",
   "execution_count": 10,
   "id": "0c990186",
   "metadata": {},
   "outputs": [],
   "source": [
    "def vectorization(data : any, dim : int = 10000):\n",
    "    res = np.zeros(shape = (len(data), dim))\n",
    "    for i in range(len(data)):\n",
    "        for j in data[i]:\n",
    "            res[i][j] = 1\n",
    "    return res"
   ]
  },
  {
   "cell_type": "code",
   "execution_count": 11,
   "id": "5601355e",
   "metadata": {},
   "outputs": [],
   "source": [
    "train_data = vectorization(x_train)"
   ]
  },
  {
   "cell_type": "code",
   "execution_count": 12,
   "id": "45792947",
   "metadata": {},
   "outputs": [
    {
     "data": {
      "text/plain": [
       "(8982, 10000)"
      ]
     },
     "execution_count": 12,
     "metadata": {},
     "output_type": "execute_result"
    }
   ],
   "source": [
    "train_data.shape"
   ]
  },
  {
   "cell_type": "code",
   "execution_count": 13,
   "id": "b7cc0a0c",
   "metadata": {},
   "outputs": [],
   "source": [
    "from keras.utils import to_categorical"
   ]
  },
  {
   "cell_type": "code",
   "execution_count": 14,
   "id": "960fad24",
   "metadata": {},
   "outputs": [],
   "source": [
    "train_labels = to_categorical(y_train)"
   ]
  },
  {
   "cell_type": "code",
   "execution_count": 15,
   "id": "7163a289",
   "metadata": {},
   "outputs": [],
   "source": [
    "test_labels = to_categorical(y_test)"
   ]
  },
  {
   "cell_type": "code",
   "execution_count": 16,
   "id": "274858c9",
   "metadata": {},
   "outputs": [
    {
     "data": {
      "text/plain": [
       "(8982, 46)"
      ]
     },
     "execution_count": 16,
     "metadata": {},
     "output_type": "execute_result"
    }
   ],
   "source": [
    "train_labels.shape"
   ]
  },
  {
   "cell_type": "code",
   "execution_count": 18,
   "id": "6e37f211",
   "metadata": {},
   "outputs": [],
   "source": [
    "from keras import layers, models"
   ]
  },
  {
   "cell_type": "code",
   "execution_count": 20,
   "id": "e4b4d9b2",
   "metadata": {},
   "outputs": [],
   "source": [
    "network = models.Sequential()\n",
    "network.add(layers.Dense(64, activation = 'relu', input_shape = (10000,)))\n",
    "network.add(layers.Dense(64, activation = 'relu'))\n",
    "network.add(layers.Dense(46, activation = 'softmax'))"
   ]
  },
  {
   "cell_type": "code",
   "execution_count": 21,
   "id": "0ee93b53",
   "metadata": {},
   "outputs": [
    {
     "name": "stdout",
     "output_type": "stream",
     "text": [
      "Model: \"sequential_1\"\n",
      "_________________________________________________________________\n",
      " Layer (type)                Output Shape              Param #   \n",
      "=================================================================\n",
      " dense_3 (Dense)             (None, 64)                640064    \n",
      "                                                                 \n",
      " dense_4 (Dense)             (None, 64)                4160      \n",
      "                                                                 \n",
      " dense_5 (Dense)             (None, 46)                2990      \n",
      "                                                                 \n",
      "=================================================================\n",
      "Total params: 647,214\n",
      "Trainable params: 647,214\n",
      "Non-trainable params: 0\n",
      "_________________________________________________________________\n"
     ]
    }
   ],
   "source": [
    "network.summary()"
   ]
  },
  {
   "cell_type": "code",
   "execution_count": 22,
   "id": "78ea8057",
   "metadata": {},
   "outputs": [],
   "source": [
    "network.compile(\n",
    "    loss = 'categorical_crossentropy',\n",
    "    optimizer = 'rmsprop',\n",
    "    metrics = ['acc']\n",
    ")"
   ]
  },
  {
   "cell_type": "code",
   "execution_count": 23,
   "id": "1d69f6c7",
   "metadata": {},
   "outputs": [
    {
     "data": {
      "text/plain": [
       "8982"
      ]
     },
     "execution_count": 23,
     "metadata": {},
     "output_type": "execute_result"
    }
   ],
   "source": [
    "len(train_data)"
   ]
  },
  {
   "cell_type": "code",
   "execution_count": 26,
   "id": "5f10e996",
   "metadata": {},
   "outputs": [],
   "source": [
    "val_data = train_data[:1000]\n",
    "val_labels = train_labels[:1000]"
   ]
  },
  {
   "cell_type": "code",
   "execution_count": 27,
   "id": "518cc239",
   "metadata": {},
   "outputs": [],
   "source": [
    "train_data = train_data[1000:]\n",
    "train_labels = train_labels[1000:]"
   ]
  },
  {
   "cell_type": "code",
   "execution_count": 28,
   "id": "e64b20b8",
   "metadata": {},
   "outputs": [
    {
     "name": "stderr",
     "output_type": "stream",
     "text": [
      "2024-06-08 14:00:00.799432: W tensorflow/core/framework/cpu_allocator_impl.cc:82] Allocation of 319280000 exceeds 10% of free system memory.\n"
     ]
    },
    {
     "name": "stdout",
     "output_type": "stream",
     "text": [
      "Epoch 1/20\n",
      "63/63 [==============================] - 1s 15ms/step - loss: 1.8267 - acc: 0.6259 - val_loss: 1.2209 - val_acc: 0.7060\n",
      "Epoch 2/20\n",
      " 1/63 [..............................] - ETA: 0s - loss: 0.7204 - acc: 0.8438"
     ]
    },
    {
     "name": "stderr",
     "output_type": "stream",
     "text": [
      "2024-06-08 14:00:02.962099: W tensorflow/core/framework/cpu_allocator_impl.cc:82] Allocation of 40000000 exceeds 10% of free system memory.\n"
     ]
    },
    {
     "name": "stdout",
     "output_type": "stream",
     "text": [
      "63/63 [==============================] - 1s 13ms/step - loss: 0.9620 - acc: 0.7876 - val_loss: 1.0109 - val_acc: 0.7820\n",
      "Epoch 3/20\n",
      "63/63 [==============================] - 1s 13ms/step - loss: 0.6557 - acc: 0.8566 - val_loss: 0.9102 - val_acc: 0.8040\n",
      "Epoch 4/20\n",
      "63/63 [==============================] - 1s 12ms/step - loss: 0.4578 - acc: 0.9024 - val_loss: 0.9303 - val_acc: 0.8000\n",
      "Epoch 5/20\n",
      "63/63 [==============================] - 1s 12ms/step - loss: 0.3338 - acc: 0.9256 - val_loss: 0.8787 - val_acc: 0.8300\n",
      "Epoch 6/20\n",
      "63/63 [==============================] - 1s 12ms/step - loss: 0.2541 - acc: 0.9404 - val_loss: 0.9375 - val_acc: 0.8070\n",
      "Epoch 7/20\n",
      "63/63 [==============================] - 1s 13ms/step - loss: 0.2091 - acc: 0.9468 - val_loss: 0.9730 - val_acc: 0.8120\n",
      "Epoch 8/20\n",
      "63/63 [==============================] - 1s 12ms/step - loss: 0.1789 - acc: 0.9520 - val_loss: 0.9673 - val_acc: 0.8190\n",
      "Epoch 9/20\n",
      "63/63 [==============================] - 1s 12ms/step - loss: 0.1631 - acc: 0.9544 - val_loss: 0.9900 - val_acc: 0.8110\n",
      "Epoch 10/20\n",
      "63/63 [==============================] - 1s 12ms/step - loss: 0.1515 - acc: 0.9546 - val_loss: 1.0559 - val_acc: 0.8020\n",
      "Epoch 11/20\n",
      "63/63 [==============================] - 1s 12ms/step - loss: 0.1379 - acc: 0.9551 - val_loss: 1.1111 - val_acc: 0.8000\n",
      "Epoch 12/20\n",
      "63/63 [==============================] - 1s 12ms/step - loss: 0.1331 - acc: 0.9573 - val_loss: 1.1026 - val_acc: 0.8070\n",
      "Epoch 13/20\n",
      "63/63 [==============================] - 1s 12ms/step - loss: 0.1313 - acc: 0.9570 - val_loss: 1.3025 - val_acc: 0.7840\n",
      "Epoch 14/20\n",
      "63/63 [==============================] - 1s 15ms/step - loss: 0.1235 - acc: 0.9574 - val_loss: 1.1567 - val_acc: 0.8090\n",
      "Epoch 15/20\n",
      "63/63 [==============================] - 1s 14ms/step - loss: 0.1199 - acc: 0.9577 - val_loss: 1.2876 - val_acc: 0.7870\n",
      "Epoch 16/20\n",
      "63/63 [==============================] - 1s 12ms/step - loss: 0.1190 - acc: 0.9568 - val_loss: 1.2562 - val_acc: 0.7910\n",
      "Epoch 17/20\n",
      "63/63 [==============================] - 1s 15ms/step - loss: 0.1150 - acc: 0.9557 - val_loss: 1.2516 - val_acc: 0.7980\n",
      "Epoch 18/20\n",
      "63/63 [==============================] - 1s 16ms/step - loss: 0.1163 - acc: 0.9565 - val_loss: 1.1785 - val_acc: 0.8060\n",
      "Epoch 19/20\n",
      "63/63 [==============================] - 1s 12ms/step - loss: 0.1103 - acc: 0.9573 - val_loss: 1.2509 - val_acc: 0.8000\n",
      "Epoch 20/20\n",
      "63/63 [==============================] - 1s 13ms/step - loss: 0.1082 - acc: 0.9577 - val_loss: 1.2375 - val_acc: 0.8050\n"
     ]
    }
   ],
   "source": [
    "hist = network.fit(train_data, train_labels, batch_size = 128, validation_data = (val_data, val_labels), epochs = 20)"
   ]
  },
  {
   "cell_type": "code",
   "execution_count": 29,
   "id": "b7472b76",
   "metadata": {},
   "outputs": [],
   "source": [
    "history = hist.history"
   ]
  },
  {
   "cell_type": "code",
   "execution_count": 30,
   "id": "75cbf07b",
   "metadata": {},
   "outputs": [],
   "source": [
    "import matplotlib.pyplot as plt"
   ]
  },
  {
   "cell_type": "code",
   "execution_count": 32,
   "id": "29523794",
   "metadata": {},
   "outputs": [
    {
     "data": {
      "image/png": "[encoded data removed]",
      "text/plain": [
       "<Figure size 432x288 with 1 Axes>"
      ]
     },
     "metadata": {
      "needs_background": "light"
     },
     "output_type": "display_data"
    }
   ],
   "source": [
    "plt.scatter(range(len(history['loss'])), history['loss'], label = 'Training Loss')\n",
    "plt.plot(range(len(history['val_loss'])), history['val_loss'], label = 'Validation Loss')\n",
    "plt.legend(loc = 'best')\n",
    "plt.show()"
   ]
  },
  {
   "cell_type": "code",
   "execution_count": 33,
   "id": "fc0d8707",
   "metadata": {},
   "outputs": [
    {
     "data": {
      "image/png": "[encoded data removed]",
      "text/plain": [
       "<Figure size 432x288 with 1 Axes>"
      ]
     },
     "metadata": {
      "needs_background": "light"
     },
     "output_type": "display_data"
    }
   ],
   "source": [
    "plt.scatter(range(len(history['acc'])), history['acc'], label = 'Accuracy')\n",
    "plt.plot(range(len(history['val_acc'])), history['val_acc'], label = 'Validation Accuracy')\n",
    "plt.legend(loc = 'best')\n",
    "plt.show()"
   ]
  },
  {
   "cell_type": "code",
   "execution_count": 36,
   "id": "63bedbab",
   "metadata": {},
   "outputs": [],
   "source": [
    "test_data = vectorization(x_test)"
   ]
  },
  {
   "cell_type": "code",
   "execution_count": 37,
   "id": "872adb88",
   "metadata": {},
   "outputs": [
    {
     "name": "stdout",
     "output_type": "stream",
     "text": [
      "53/71 [=====================>........] - ETA: 0s - loss: 1.4927 - acc: 0.7877"
     ]
    },
    {
     "name": "stderr",
     "output_type": "stream",
     "text": [
      "2024-06-08 14:16:37.060108: W tensorflow/core/framework/cpu_allocator_impl.cc:82] Allocation of 89840000 exceeds 10% of free system memory.\n"
     ]
    },
    {
     "name": "stdout",
     "output_type": "stream",
     "text": [
      "\b\b\b\b\b\b\b\b\b\b\b\b\b\b\b\b\b\b\b\b\b\b\b\b\b\b\b\b\b\b\b\b\b\b\b\b\b\b\b\b\b\b\b\b\b\b\b\b\b\b\b\b\b\b\b\b\b\b\b\b\b\b\b\b\b\b\b\b\b\b\b\b\b\b\b\b\b\r",
      "71/71 [==============================] - 0s 2ms/step - loss: 1.5336 - acc: 0.7818\n"
     ]
    }
   ],
   "source": [
    "result = network.evaluate(test_data, test_labels)"
   ]
  },
  {
   "cell_type": "code",
   "execution_count": 38,
   "id": "4072f95c",
   "metadata": {},
   "outputs": [
    {
     "data": {
      "text/plain": [
       "[1.5336086750030518, 0.7818343639373779]"
      ]
     },
     "execution_count": 38,
     "metadata": {},
     "output_type": "execute_result"
    }
   ],
   "source": [
    "result"
   ]
  },
  {
   "cell_type": "code",
   "execution_count": 40,
   "id": "3e335dd4",
   "metadata": {},
   "outputs": [
    {
     "name": "stdout",
     "output_type": "stream",
     "text": [
      "29/71 [===========>..................] - ETA: 0s"
     ]
    },
    {
     "name": "stderr",
     "output_type": "stream",
     "text": [
      "2024-06-08 14:19:55.603863: W tensorflow/core/framework/cpu_allocator_impl.cc:82] Allocation of 89840000 exceeds 10% of free system memory.\n"
     ]
    },
    {
     "name": "stdout",
     "output_type": "stream",
     "text": [
      "71/71 [==============================] - 0s 2ms/step\n"
     ]
    }
   ],
   "source": [
    "predications = network.predict(test_data)"
   ]
  },
  {
   "cell_type": "code",
   "execution_count": 42,
   "id": "c50b5ce8",
   "metadata": {},
   "outputs": [],
   "source": [
    "c = np.argmax(predications[0])"
   ]
  },
  {
   "cell_type": "code",
   "execution_count": 43,
   "id": "dd1ab7ef",
   "metadata": {},
   "outputs": [
    {
     "data": {
      "text/plain": [
       "3"
      ]
     },
     "execution_count": 43,
     "metadata": {},
     "output_type": "execute_result"
    }
   ],
   "source": [
    "c"
   ]
  },
  {
   "cell_type": "code",
   "execution_count": 44,
   "id": "adcd2ec9",
   "metadata": {},
   "outputs": [],
   "source": [
    "r = np.argmax(test_labels[0])"
   ]
  },
  {
   "cell_type": "code",
   "execution_count": 45,
   "id": "0b3e3b31",
   "metadata": {},
   "outputs": [
    {
     "data": {
      "text/plain": [
       "3"
      ]
     },
     "execution_count": 45,
     "metadata": {},
     "output_type": "execute_result"
    }
   ],
   "source": [
    "r"
   ]
  },
  {
   "cell_type": "code",
   "execution_count": null,
   "id": "1832e433",
   "metadata": {},
   "outputs": [],
   "source": []
  }
 ],
 "metadata": {
  "kernelspec": {
   "display_name": "Python 3 (ipykernel)",
   "language": "python",
   "name": "python3"
  },
  "language_info": {
   "codemirror_mode": {
    "name": "ipython",
    "version": 3
   },
   "file_extension": ".py",
   "mimetype": "text/x-python",
   "name": "python",
   "nbconvert_exporter": "python",
   "pygments_lexer": "ipython3",
   "version": "3.8.10"
  }
 },
 "nbformat": 4,
 "nbformat_minor": 5
}
