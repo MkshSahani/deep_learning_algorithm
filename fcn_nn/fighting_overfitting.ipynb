{
 "cells": [
  {
   "cell_type": "code",
   "execution_count": 2,
   "id": "aa272788",
   "metadata": {},
   "outputs": [
    {
     "name": "stderr",
     "output_type": "stream",
     "text": [
      "2024-06-11 14:36:09.792980: I tensorflow/core/platform/cpu_feature_guard.cc:193] This TensorFlow binary is optimized with oneAPI Deep Neural Network Library (oneDNN) to use the following CPU instructions in performance-critical operations:  AVX2 FMA\n",
      "To enable them in other operations, rebuild TensorFlow with the appropriate compiler flags.\n",
      "2024-06-11 14:36:10.314967: W tensorflow/stream_executor/platform/default/dso_loader.cc:64] Could not load dynamic library 'libcudart.so.11.0'; dlerror: libcudart.so.11.0: cannot open shared object file: No such file or directory\n",
      "2024-06-11 14:36:10.315040: I tensorflow/stream_executor/cuda/cudart_stub.cc:29] Ignore above cudart dlerror if you do not have a GPU set up on your machine.\n",
      "2024-06-11 14:36:10.381506: E tensorflow/stream_executor/cuda/cuda_blas.cc:2981] Unable to register cuBLAS factory: Attempting to register factory for plugin cuBLAS when one has already been registered\n",
      "2024-06-11 14:36:11.610902: W tensorflow/stream_executor/platform/default/dso_loader.cc:64] Could not load dynamic library 'libnvinfer.so.7'; dlerror: libnvinfer.so.7: cannot open shared object file: No such file or directory\n",
      "2024-06-11 14:36:11.611052: W tensorflow/stream_executor/platform/default/dso_loader.cc:64] Could not load dynamic library 'libnvinfer_plugin.so.7'; dlerror: libnvinfer_plugin.so.7: cannot open shared object file: No such file or directory\n",
      "2024-06-11 14:36:11.611060: W tensorflow/compiler/tf2tensorrt/utils/py_utils.cc:38] TF-TRT Warning: Cannot dlopen some TensorRT libraries. If you would like to use Nvidia GPU with TensorRT, please make sure the missing libraries mentioned above are installed properly.\n",
      "/usr/lib/python3/dist-packages/requests/__init__.py:89: RequestsDependencyWarning: urllib3 (2.0.5) or chardet (3.0.4) doesn't match a supported version!\n",
      "  warnings.warn(\"urllib3 ({}) or chardet ({}) doesn't match a supported \"\n"
     ]
    }
   ],
   "source": [
    "from keras import layers, models\n",
    "import numpy as np"
   ]
  },
  {
   "cell_type": "code",
   "execution_count": 3,
   "id": "2d1bc758",
   "metadata": {},
   "outputs": [],
   "source": [
    "from keras.datasets import imdb"
   ]
  },
  {
   "cell_type": "code",
   "execution_count": 4,
   "id": "def95c65",
   "metadata": {},
   "outputs": [],
   "source": [
    "(x_train, y_train), (x_test, y_test) = imdb.load_data(num_words = 10000)"
   ]
  },
  {
   "cell_type": "code",
   "execution_count": 5,
   "id": "642f79de",
   "metadata": {},
   "outputs": [],
   "source": [
    "def vectorization(data : any, dim : int  = 10000) -> any:\n",
    "    res = np.zeros(shape = (len(data), dim))\n",
    "    for i in range(len(data)):\n",
    "        for j in data[i]:\n",
    "            res[i, j] = 1\n",
    "    return res"
   ]
  },
  {
   "cell_type": "code",
   "execution_count": 6,
   "id": "56978e4c",
   "metadata": {},
   "outputs": [],
   "source": [
    "train_data = vectorization(x_train)"
   ]
  },
  {
   "cell_type": "code",
   "execution_count": 7,
   "id": "bd6e300b",
   "metadata": {},
   "outputs": [],
   "source": [
    "test_data = vectorization(x_test)"
   ]
  },
  {
   "cell_type": "code",
   "execution_count": 8,
   "id": "13a6ff9a",
   "metadata": {},
   "outputs": [
    {
     "data": {
      "text/plain": [
       "(25000, 10000)"
      ]
     },
     "execution_count": 8,
     "metadata": {},
     "output_type": "execute_result"
    }
   ],
   "source": [
    "train_data.shape"
   ]
  },
  {
   "cell_type": "code",
   "execution_count": 9,
   "id": "1c55b0f6",
   "metadata": {},
   "outputs": [],
   "source": [
    "def build_2_16_model():\n",
    "    model = models.Sequential()\n",
    "    model.add(layers.Dense(16, activation = 'relu', input_shape = (10000,)))\n",
    "    model.add(layers.Dense(16, activation = 'relu'))\n",
    "    model.add(layers.Dense(1, activation = 'sigmoid'))\n",
    "    model.compile(\n",
    "        loss = 'binary_crossentropy',\n",
    "        metrics = ['acc'],\n",
    "        optimizer = 'rmsprop'\n",
    "    )\n",
    "    return model"
   ]
  },
  {
   "cell_type": "code",
   "execution_count": 10,
   "id": "83e71a6f",
   "metadata": {},
   "outputs": [],
   "source": [
    "def build_2_4_model():\n",
    "    model = models.Sequential()\n",
    "    model.add(layers.Dense(4, activation = 'relu', input_shape = (10000,)))\n",
    "    model.add(layers.Dense(4, activation = 'relu'))\n",
    "    model.add(layers.Dense(1, activation = 'sigmoid'))\n",
    "    model.compile(\n",
    "        loss = 'binary_crossentropy',\n",
    "        metrics = ['acc'],\n",
    "        optimizer = 'rmsprop'\n",
    "    )\n",
    "    return model"
   ]
  },
  {
   "cell_type": "code",
   "execution_count": 11,
   "id": "2d7ad797",
   "metadata": {},
   "outputs": [
    {
     "name": "stderr",
     "output_type": "stream",
     "text": [
      "2024-06-11 14:36:18.785188: W tensorflow/stream_executor/platform/default/dso_loader.cc:64] Could not load dynamic library 'libcuda.so.1'; dlerror: libcuda.so.1: cannot open shared object file: No such file or directory\n",
      "2024-06-11 14:36:18.785475: W tensorflow/stream_executor/cuda/cuda_driver.cc:263] failed call to cuInit: UNKNOWN ERROR (303)\n",
      "2024-06-11 14:36:18.785495: I tensorflow/stream_executor/cuda/cuda_diagnostics.cc:156] kernel driver does not appear to be running on this host (mukesh-ThinkPad-E14): /proc/driver/nvidia/version does not exist\n",
      "2024-06-11 14:36:18.786113: I tensorflow/core/platform/cpu_feature_guard.cc:193] This TensorFlow binary is optimized with oneAPI Deep Neural Network Library (oneDNN) to use the following CPU instructions in performance-critical operations:  AVX2 FMA\n",
      "To enable them in other operations, rebuild TensorFlow with the appropriate compiler flags.\n"
     ]
    }
   ],
   "source": [
    "model_big = build_2_16_model()"
   ]
  },
  {
   "cell_type": "code",
   "execution_count": 12,
   "id": "99b8f9aa",
   "metadata": {},
   "outputs": [],
   "source": [
    "model_small = build_2_4_model()"
   ]
  },
  {
   "cell_type": "code",
   "execution_count": 13,
   "id": "e6b8f6c9",
   "metadata": {},
   "outputs": [
    {
     "name": "stdout",
     "output_type": "stream",
     "text": [
      "Epoch 1/20\n"
     ]
    },
    {
     "name": "stderr",
     "output_type": "stream",
     "text": [
      "2024-06-11 14:36:19.200834: W tensorflow/core/framework/cpu_allocator_impl.cc:82] Allocation of 800000000 exceeds 10% of free system memory.\n"
     ]
    },
    {
     "name": "stdout",
     "output_type": "stream",
     "text": [
      "303/313 [============================>.] - ETA: 0s - loss: 0.3450 - acc: 0.8607"
     ]
    },
    {
     "name": "stderr",
     "output_type": "stream",
     "text": [
      "2024-06-11 14:36:21.274253: W tensorflow/core/framework/cpu_allocator_impl.cc:82] Allocation of 200000000 exceeds 10% of free system memory.\n"
     ]
    },
    {
     "name": "stdout",
     "output_type": "stream",
     "text": [
      "313/313 [==============================] - 2s 5ms/step - loss: 0.3424 - acc: 0.8619 - val_loss: 0.2776 - val_acc: 0.8882\n",
      "Epoch 2/20\n",
      "313/313 [==============================] - 1s 3ms/step - loss: 0.2039 - acc: 0.9205 - val_loss: 0.2868 - val_acc: 0.8864\n",
      "Epoch 3/20\n",
      "313/313 [==============================] - 1s 3ms/step - loss: 0.1614 - acc: 0.9409 - val_loss: 0.3210 - val_acc: 0.8838\n",
      "Epoch 4/20\n",
      "313/313 [==============================] - 1s 3ms/step - loss: 0.1330 - acc: 0.9516 - val_loss: 0.3444 - val_acc: 0.8824\n",
      "Epoch 5/20\n",
      "313/313 [==============================] - 1s 3ms/step - loss: 0.1114 - acc: 0.9588 - val_loss: 0.3999 - val_acc: 0.8752\n",
      "Epoch 6/20\n",
      "313/313 [==============================] - 1s 3ms/step - loss: 0.0898 - acc: 0.9678 - val_loss: 0.4535 - val_acc: 0.8750\n",
      "Epoch 7/20\n",
      "313/313 [==============================] - 1s 3ms/step - loss: 0.0735 - acc: 0.9746 - val_loss: 0.5161 - val_acc: 0.8746\n",
      "Epoch 8/20\n",
      "313/313 [==============================] - 1s 3ms/step - loss: 0.0580 - acc: 0.9801 - val_loss: 0.6003 - val_acc: 0.8718\n",
      "Epoch 9/20\n",
      "313/313 [==============================] - 1s 3ms/step - loss: 0.0454 - acc: 0.9853 - val_loss: 0.6926 - val_acc: 0.8718\n",
      "Epoch 10/20\n",
      "313/313 [==============================] - 1s 3ms/step - loss: 0.0359 - acc: 0.9889 - val_loss: 0.7891 - val_acc: 0.8692\n",
      "Epoch 11/20\n",
      "313/313 [==============================] - 1s 3ms/step - loss: 0.0278 - acc: 0.9919 - val_loss: 0.8822 - val_acc: 0.8702\n",
      "Epoch 12/20\n",
      "313/313 [==============================] - 1s 3ms/step - loss: 0.0192 - acc: 0.9941 - val_loss: 1.0238 - val_acc: 0.8670\n",
      "Epoch 13/20\n",
      "313/313 [==============================] - 1s 3ms/step - loss: 0.0143 - acc: 0.9959 - val_loss: 1.1943 - val_acc: 0.8668\n",
      "Epoch 14/20\n",
      "313/313 [==============================] - 1s 3ms/step - loss: 0.0096 - acc: 0.9970 - val_loss: 1.3848 - val_acc: 0.8662\n",
      "Epoch 15/20\n",
      "313/313 [==============================] - 1s 3ms/step - loss: 0.0065 - acc: 0.9984 - val_loss: 1.5206 - val_acc: 0.8626\n",
      "Epoch 16/20\n",
      "313/313 [==============================] - 1s 3ms/step - loss: 0.0045 - acc: 0.9987 - val_loss: 1.6908 - val_acc: 0.8632\n",
      "Epoch 17/20\n",
      "313/313 [==============================] - 1s 3ms/step - loss: 0.0035 - acc: 0.9991 - val_loss: 1.8392 - val_acc: 0.8648\n",
      "Epoch 18/20\n",
      "313/313 [==============================] - 1s 3ms/step - loss: 0.0024 - acc: 0.9993 - val_loss: 2.0496 - val_acc: 0.8620\n",
      "Epoch 19/20\n",
      "313/313 [==============================] - 1s 3ms/step - loss: 0.0018 - acc: 0.9996 - val_loss: 2.3460 - val_acc: 0.8588\n",
      "Epoch 20/20\n",
      "313/313 [==============================] - 1s 3ms/step - loss: 0.0014 - acc: 0.9996 - val_loss: 2.4853 - val_acc: 0.8632\n"
     ]
    }
   ],
   "source": [
    "big_model_history = model_big.fit(\n",
    "    train_data,\n",
    "    y_train,\n",
    "    epochs = 20,\n",
    "    validation_split = 0.2,\n",
    "    batch_size = 64\n",
    ")"
   ]
  },
  {
   "cell_type": "code",
   "execution_count": 14,
   "id": "939b5624",
   "metadata": {},
   "outputs": [
    {
     "name": "stderr",
     "output_type": "stream",
     "text": [
      "2024-06-11 14:36:42.657246: W tensorflow/core/framework/cpu_allocator_impl.cc:82] Allocation of 800000000 exceeds 10% of free system memory.\n"
     ]
    },
    {
     "name": "stdout",
     "output_type": "stream",
     "text": [
      "Epoch 1/20\n",
      "304/313 [============================>.] - ETA: 0s - loss: 0.4375 - acc: 0.8412"
     ]
    },
    {
     "name": "stderr",
     "output_type": "stream",
     "text": [
      "2024-06-11 14:36:48.097155: W tensorflow/core/framework/cpu_allocator_impl.cc:82] Allocation of 200000000 exceeds 10% of free system memory.\n"
     ]
    },
    {
     "name": "stdout",
     "output_type": "stream",
     "text": [
      "313/313 [==============================] - 2s 4ms/step - loss: 0.4333 - acc: 0.8426 - val_loss: 0.3016 - val_acc: 0.8812\n",
      "Epoch 2/20\n",
      "313/313 [==============================] - 1s 5ms/step - loss: 0.2340 - acc: 0.9110 - val_loss: 0.2691 - val_acc: 0.8926\n",
      "Epoch 3/20\n",
      "313/313 [==============================] - 1s 3ms/step - loss: 0.1852 - acc: 0.9309 - val_loss: 0.2754 - val_acc: 0.8926\n",
      "Epoch 4/20\n",
      "313/313 [==============================] - 1s 3ms/step - loss: 0.1603 - acc: 0.9423 - val_loss: 0.2871 - val_acc: 0.8910\n",
      "Epoch 5/20\n",
      "313/313 [==============================] - 1s 4ms/step - loss: 0.1421 - acc: 0.9498 - val_loss: 0.3062 - val_acc: 0.8912\n",
      "Epoch 6/20\n",
      "313/313 [==============================] - 1s 4ms/step - loss: 0.1275 - acc: 0.9554 - val_loss: 0.3264 - val_acc: 0.8894\n",
      "Epoch 7/20\n",
      "313/313 [==============================] - 1s 3ms/step - loss: 0.1153 - acc: 0.9593 - val_loss: 0.3483 - val_acc: 0.8848\n",
      "Epoch 8/20\n",
      "313/313 [==============================] - 1s 3ms/step - loss: 0.1047 - acc: 0.9633 - val_loss: 0.3762 - val_acc: 0.8804\n",
      "Epoch 9/20\n",
      "313/313 [==============================] - 1s 3ms/step - loss: 0.0962 - acc: 0.9674 - val_loss: 0.3926 - val_acc: 0.8758\n",
      "Epoch 10/20\n",
      "313/313 [==============================] - 1s 3ms/step - loss: 0.0874 - acc: 0.9704 - val_loss: 0.4196 - val_acc: 0.8772\n",
      "Epoch 11/20\n",
      "313/313 [==============================] - 1s 3ms/step - loss: 0.0799 - acc: 0.9740 - val_loss: 0.4439 - val_acc: 0.8748\n",
      "Epoch 12/20\n",
      "313/313 [==============================] - 1s 4ms/step - loss: 0.0728 - acc: 0.9755 - val_loss: 0.4644 - val_acc: 0.8718\n",
      "Epoch 13/20\n",
      "313/313 [==============================] - 1s 4ms/step - loss: 0.0669 - acc: 0.9786 - val_loss: 0.4888 - val_acc: 0.8722\n",
      "Epoch 14/20\n",
      "313/313 [==============================] - 1s 3ms/step - loss: 0.0603 - acc: 0.9809 - val_loss: 0.5171 - val_acc: 0.8712\n",
      "Epoch 15/20\n",
      "313/313 [==============================] - 1s 4ms/step - loss: 0.0553 - acc: 0.9823 - val_loss: 0.5447 - val_acc: 0.8680\n",
      "Epoch 16/20\n",
      "313/313 [==============================] - 1s 3ms/step - loss: 0.0506 - acc: 0.9841 - val_loss: 0.5745 - val_acc: 0.8668\n",
      "Epoch 17/20\n",
      "313/313 [==============================] - 1s 3ms/step - loss: 0.0461 - acc: 0.9862 - val_loss: 0.6173 - val_acc: 0.8682\n",
      "Epoch 18/20\n",
      "313/313 [==============================] - 1s 3ms/step - loss: 0.0429 - acc: 0.9863 - val_loss: 0.6495 - val_acc: 0.8664\n",
      "Epoch 19/20\n",
      "313/313 [==============================] - 1s 3ms/step - loss: 0.0384 - acc: 0.9881 - val_loss: 0.6912 - val_acc: 0.8636\n",
      "Epoch 20/20\n",
      "313/313 [==============================] - 1s 3ms/step - loss: 0.0353 - acc: 0.9897 - val_loss: 0.7229 - val_acc: 0.8640\n"
     ]
    }
   ],
   "source": [
    "small_model_history = model_small.fit(\n",
    "    train_data,\n",
    "    y_train,\n",
    "    validation_split  = 0.2,\n",
    "    epochs = 20,\n",
    "    batch_size = 64\n",
    ")"
   ]
  },
  {
   "cell_type": "code",
   "execution_count": 15,
   "id": "39377008",
   "metadata": {},
   "outputs": [
    {
     "data": {
      "text/plain": [
       "<matplotlib.collections.PathCollection at 0x7f2611bdb4f0>"
      ]
     },
     "execution_count": 15,
     "metadata": {},
     "output_type": "execute_result"
    },
    {
     "data": {
      "image/png": "[encoded data removed]",
      "text/plain": [
       "<Figure size 432x288 with 1 Axes>"
      ]
     },
     "metadata": {
      "needs_background": "light"
     },
     "output_type": "display_data"
    }
   ],
   "source": [
    "## plot validation data of the model\n",
    "import matplotlib.pyplot as plt\n",
    "\n",
    "plt.plot(range(len(big_model_history.history['val_loss'])), big_model_history.history['val_loss'], '+',label = 'Big Model')\n",
    "plt.scatter(range(len(small_model_history.history['val_loss'])), small_model_history.history['val_loss'],label = 'Small Model')\n"
   ]
  },
  {
   "cell_type": "code",
   "execution_count": 16,
   "id": "dd931792",
   "metadata": {},
   "outputs": [],
   "source": [
    "def get_bigger_model():\n",
    "    model = models.Sequential()\n",
    "    model.add(layers.Dense(512, activation = 'relu', input_shape = (10000,)))\n",
    "    model.add(layers.Dense(512, activation = 'relu'))\n",
    "    model.add(layers.Dense(1, activation = 'sigmoid'))\n",
    "    model.compile(\n",
    "        loss = 'binary_crossentropy',\n",
    "        optimizer = 'rmsprop',\n",
    "        metrics = ['acc']\n",
    "    )\n",
    "    return model"
   ]
  },
  {
   "cell_type": "code",
   "execution_count": 17,
   "id": "b1597a0e",
   "metadata": {},
   "outputs": [],
   "source": [
    "bigger_model = get_bigger_model()"
   ]
  },
  {
   "cell_type": "code",
   "execution_count": 18,
   "id": "40a0bc36",
   "metadata": {},
   "outputs": [
    {
     "name": "stdout",
     "output_type": "stream",
     "text": [
      "Epoch 1/20\n"
     ]
    },
    {
     "name": "stderr",
     "output_type": "stream",
     "text": [
      "2024-06-11 14:37:10.616022: W tensorflow/core/framework/cpu_allocator_impl.cc:82] Allocation of 800000000 exceeds 10% of free system memory.\n"
     ]
    },
    {
     "name": "stdout",
     "output_type": "stream",
     "text": [
      "313/313 [==============================] - 18s 56ms/step - loss: 0.3507 - acc: 0.8519 - val_loss: 0.3042 - val_acc: 0.8770\n",
      "Epoch 2/20\n",
      "313/313 [==============================] - 17s 56ms/step - loss: 0.1805 - acc: 0.9351 - val_loss: 0.3327 - val_acc: 0.8858\n",
      "Epoch 3/20\n",
      "313/313 [==============================] - 17s 56ms/step - loss: 0.0937 - acc: 0.9702 - val_loss: 0.4344 - val_acc: 0.8778\n",
      "Epoch 4/20\n",
      "313/313 [==============================] - 17s 56ms/step - loss: 0.0427 - acc: 0.9901 - val_loss: 0.8272 - val_acc: 0.8816\n",
      "Epoch 5/20\n",
      "313/313 [==============================] - 17s 55ms/step - loss: 0.0176 - acc: 0.9963 - val_loss: 1.1326 - val_acc: 0.8756\n",
      "Epoch 6/20\n",
      "313/313 [==============================] - 17s 56ms/step - loss: 0.0059 - acc: 0.9988 - val_loss: 2.1505 - val_acc: 0.8828\n",
      "Epoch 7/20\n",
      "313/313 [==============================] - 18s 57ms/step - loss: 0.0048 - acc: 0.9995 - val_loss: 2.7288 - val_acc: 0.8800\n",
      "Epoch 8/20\n",
      "313/313 [==============================] - 19s 60ms/step - loss: 0.0193 - acc: 0.9988 - val_loss: 2.9571 - val_acc: 0.8776\n",
      "Epoch 9/20\n",
      "313/313 [==============================] - 18s 57ms/step - loss: 8.7932e-06 - acc: 1.0000 - val_loss: 4.2252 - val_acc: 0.8816\n",
      "Epoch 10/20\n",
      "313/313 [==============================] - 18s 57ms/step - loss: 0.0117 - acc: 0.9994 - val_loss: 3.6540 - val_acc: 0.8766\n",
      "Epoch 11/20\n",
      "313/313 [==============================] - 18s 57ms/step - loss: 1.7390e-05 - acc: 1.0000 - val_loss: 4.0802 - val_acc: 0.8792\n",
      "Epoch 12/20\n",
      "313/313 [==============================] - 18s 57ms/step - loss: 3.2402e-08 - acc: 1.0000 - val_loss: 4.2991 - val_acc: 0.8792\n",
      "Epoch 13/20\n",
      "313/313 [==============================] - 18s 57ms/step - loss: 2.0882e-09 - acc: 1.0000 - val_loss: 4.3824 - val_acc: 0.8764\n",
      "Epoch 14/20\n",
      "313/313 [==============================] - 18s 58ms/step - loss: 9.2984e-10 - acc: 1.0000 - val_loss: 4.4224 - val_acc: 0.8770\n",
      "Epoch 15/20\n",
      "313/313 [==============================] - 19s 59ms/step - loss: 6.6036e-10 - acc: 1.0000 - val_loss: 4.4538 - val_acc: 0.8770\n",
      "Epoch 16/20\n",
      "313/313 [==============================] - 19s 59ms/step - loss: 5.1679e-10 - acc: 1.0000 - val_loss: 4.4829 - val_acc: 0.8768\n",
      "Epoch 17/20\n",
      "313/313 [==============================] - 19s 60ms/step - loss: 4.4046e-10 - acc: 1.0000 - val_loss: 4.4991 - val_acc: 0.8768\n",
      "Epoch 18/20\n",
      "313/313 [==============================] - 19s 59ms/step - loss: 3.7858e-10 - acc: 1.0000 - val_loss: 4.5184 - val_acc: 0.8770\n",
      "Epoch 19/20\n",
      "313/313 [==============================] - 19s 60ms/step - loss: 3.3573e-10 - acc: 1.0000 - val_loss: 4.5345 - val_acc: 0.8772\n",
      "Epoch 20/20\n",
      "313/313 [==============================] - 19s 60ms/step - loss: 3.0400e-10 - acc: 1.0000 - val_loss: 4.5494 - val_acc: 0.8776\n"
     ]
    }
   ],
   "source": [
    "bigger_model_history = bigger_model.fit(\n",
    "    train_data,\n",
    "    y_train,\n",
    "    epochs = 20,\n",
    "    batch_size = 64,\n",
    "    validation_split = 0.2\n",
    ")"
   ]
  },
  {
   "cell_type": "code",
   "execution_count": 19,
   "id": "9a9b4698",
   "metadata": {},
   "outputs": [
    {
     "data": {
      "text/plain": [
       "<matplotlib.collections.PathCollection at 0x7f26101e2d00>"
      ]
     },
     "execution_count": 19,
     "metadata": {},
     "output_type": "execute_result"
    },
    {
     "data": {
      "image/png": "[encoded data removed]",
      "text/plain": [
       "<Figure size 432x288 with 1 Axes>"
      ]
     },
     "metadata": {
      "needs_background": "light"
     },
     "output_type": "display_data"
    }
   ],
   "source": [
    "plt.plot(range(len(big_model_history.history['val_loss'])), big_model_history.history['val_loss'], '+',label = 'Big Model')\n",
    "plt.scatter(range(len(bigger_model_history.history['val_loss'])), bigger_model_history.history['val_loss'],label = 'Small Model')\n"
   ]
  },
  {
   "cell_type": "code",
   "execution_count": 20,
   "id": "aaf0c3a9",
   "metadata": {},
   "outputs": [
    {
     "data": {
      "text/plain": [
       "<matplotlib.collections.PathCollection at 0x7f2612c11c70>"
      ]
     },
     "execution_count": 20,
     "metadata": {},
     "output_type": "execute_result"
    },
    {
     "data": {
      "image/png": "[encoded data removed]",
      "text/plain": [
       "<Figure size 432x288 with 1 Axes>"
      ]
     },
     "metadata": {
      "needs_background": "light"
     },
     "output_type": "display_data"
    }
   ],
   "source": [
    "plt.plot(range(len(big_model_history.history['loss'])), big_model_history.history['loss'], '+',label = 'Big Model')\n",
    "plt.scatter(range(len(bigger_model_history.history['loss'])), bigger_model_history.history['loss'],label = 'Small Model')\n"
   ]
  },
  {
   "cell_type": "code",
   "execution_count": 21,
   "id": "49907aec",
   "metadata": {},
   "outputs": [],
   "source": [
    "### Experimenting with regularizers"
   ]
  },
  {
   "cell_type": "code",
   "execution_count": 22,
   "id": "f5d2fb53",
   "metadata": {},
   "outputs": [],
   "source": [
    "from keras import regularizers"
   ]
  },
  {
   "cell_type": "code",
   "execution_count": 23,
   "id": "1d7a3849",
   "metadata": {},
   "outputs": [],
   "source": [
    "def get_regularized_network():\n",
    "    model = models.Sequential()\n",
    "    model.add(layers.Dense(16, kernel_regularizer = regularizers.l2(0.001), input_shape = (10000,)))\n",
    "    model.add(layers.Dense(16, kernel_regularizer = regularizers.l2(0.001)))\n",
    "    model.add(layers.Dense(1, activation = 'sigmoid'))\n",
    "    model.compile(\n",
    "        optimizer = 'rmsprop',\n",
    "        loss = 'binary_crossentropy',\n",
    "        metrics = ['acc']\n",
    "    )\n",
    "    return model"
   ]
  },
  {
   "cell_type": "code",
   "execution_count": 24,
   "id": "77458086",
   "metadata": {},
   "outputs": [],
   "source": [
    "regularized_model = get_regularized_network()"
   ]
  },
  {
   "cell_type": "code",
   "execution_count": 25,
   "id": "bd4b2b07",
   "metadata": {},
   "outputs": [
    {
     "name": "stdout",
     "output_type": "stream",
     "text": [
      "Epoch 1/20\n",
      "313/313 [==============================] - 2s 5ms/step - loss: 0.3702 - acc: 0.8655 - val_loss: 0.3288 - val_acc: 0.8824\n",
      "Epoch 2/20\n",
      "313/313 [==============================] - 1s 4ms/step - loss: 0.2807 - acc: 0.9071 - val_loss: 0.3630 - val_acc: 0.8696\n",
      "Epoch 3/20\n",
      "313/313 [==============================] - 1s 4ms/step - loss: 0.2644 - acc: 0.9144 - val_loss: 0.3329 - val_acc: 0.8812\n",
      "Epoch 4/20\n",
      "313/313 [==============================] - 1s 4ms/step - loss: 0.2497 - acc: 0.9184 - val_loss: 0.3336 - val_acc: 0.8772\n",
      "Epoch 5/20\n",
      "313/313 [==============================] - 1s 4ms/step - loss: 0.2362 - acc: 0.9221 - val_loss: 0.3276 - val_acc: 0.8822\n",
      "Epoch 6/20\n",
      "313/313 [==============================] - 1s 4ms/step - loss: 0.2255 - acc: 0.9257 - val_loss: 0.3574 - val_acc: 0.8766\n",
      "Epoch 7/20\n",
      "313/313 [==============================] - 1s 4ms/step - loss: 0.2128 - acc: 0.9302 - val_loss: 0.3982 - val_acc: 0.8624\n",
      "Epoch 8/20\n",
      "313/313 [==============================] - 1s 4ms/step - loss: 0.2015 - acc: 0.9352 - val_loss: 0.3466 - val_acc: 0.8776\n",
      "Epoch 9/20\n",
      "313/313 [==============================] - 1s 4ms/step - loss: 0.1985 - acc: 0.9360 - val_loss: 0.3491 - val_acc: 0.8778\n",
      "Epoch 10/20\n",
      "313/313 [==============================] - 1s 4ms/step - loss: 0.1931 - acc: 0.9379 - val_loss: 0.3505 - val_acc: 0.8788\n",
      "Epoch 11/20\n",
      "313/313 [==============================] - 1s 4ms/step - loss: 0.1863 - acc: 0.9405 - val_loss: 0.3530 - val_acc: 0.8772\n",
      "Epoch 12/20\n",
      "313/313 [==============================] - 1s 4ms/step - loss: 0.1777 - acc: 0.9436 - val_loss: 0.3611 - val_acc: 0.8736\n",
      "Epoch 13/20\n",
      "313/313 [==============================] - 1s 4ms/step - loss: 0.1703 - acc: 0.9463 - val_loss: 0.3656 - val_acc: 0.8774\n",
      "Epoch 14/20\n",
      "313/313 [==============================] - 1s 4ms/step - loss: 0.1688 - acc: 0.9471 - val_loss: 0.3811 - val_acc: 0.8778\n",
      "Epoch 15/20\n",
      "313/313 [==============================] - 1s 4ms/step - loss: 0.1676 - acc: 0.9471 - val_loss: 0.4089 - val_acc: 0.8682\n",
      "Epoch 16/20\n",
      "313/313 [==============================] - 1s 4ms/step - loss: 0.1670 - acc: 0.9474 - val_loss: 0.3873 - val_acc: 0.8726\n",
      "Epoch 17/20\n",
      "313/313 [==============================] - 1s 4ms/step - loss: 0.1649 - acc: 0.9472 - val_loss: 0.3953 - val_acc: 0.8700\n",
      "Epoch 18/20\n",
      "313/313 [==============================] - 1s 4ms/step - loss: 0.1668 - acc: 0.9478 - val_loss: 0.3786 - val_acc: 0.8746\n",
      "Epoch 19/20\n",
      "313/313 [==============================] - 1s 4ms/step - loss: 0.1631 - acc: 0.9481 - val_loss: 0.3931 - val_acc: 0.8740\n",
      "Epoch 20/20\n",
      "313/313 [==============================] - 1s 4ms/step - loss: 0.1629 - acc: 0.9494 - val_loss: 0.3964 - val_acc: 0.8718\n"
     ]
    }
   ],
   "source": [
    "regularized_model_history = regularized_model.fit(train_data, y_train, epochs = 20, batch_size = 64, validation_split = 0.2)"
   ]
  },
  {
   "cell_type": "code",
   "execution_count": 28,
   "id": "c0cb7927",
   "metadata": {},
   "outputs": [
    {
     "data": {
      "text/plain": [
       "<matplotlib.collections.PathCollection at 0x7f2611e41a60>"
      ]
     },
     "execution_count": 28,
     "metadata": {},
     "output_type": "execute_result"
    },
    {
     "data": {
      "image/png": "[encoded data removed]",
      "text/plain": [
       "<Figure size 432x288 with 1 Axes>"
      ]
     },
     "metadata": {
      "needs_background": "light"
     },
     "output_type": "display_data"
    }
   ],
   "source": [
    "plt.plot(range(len(big_model_history.history['val_loss'])), big_model_history.history['val_loss'], '+',label = 'Big Model')\n",
    "plt.scatter(range(len(regularized_model_history.history['val_loss'])), regularized_model_history.history['val_loss'],label = 'Small Model')\n"
   ]
  },
  {
   "cell_type": "code",
   "execution_count": null,
   "id": "548d21b6",
   "metadata": {},
   "outputs": [],
   "source": []
  }
 ],
 "metadata": {
  "kernelspec": {
   "display_name": "Python 3 (ipykernel)",
   "language": "python",
   "name": "python3"
  },
  "language_info": {
   "codemirror_mode": {
    "name": "ipython",
    "version": 3
   },
   "file_extension": ".py",
   "mimetype": "text/x-python",
   "name": "python",
   "nbconvert_exporter": "python",
   "pygments_lexer": "ipython3",
   "version": "3.8.10"
  }
 },
 "nbformat": 4,
 "nbformat_minor": 5
}
