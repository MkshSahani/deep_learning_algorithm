{
 "cells": [
  {
   "cell_type": "code",
   "execution_count": 17,
   "id": "1e793576",
   "metadata": {},
   "outputs": [],
   "source": [
    "import torch"
   ]
  },
  {
   "cell_type": "code",
   "execution_count": 18,
   "id": "6e2262c6",
   "metadata": {},
   "outputs": [],
   "source": [
    "from keras.datasets import imdb"
   ]
  },
  {
   "cell_type": "code",
   "execution_count": 19,
   "id": "2ae34fd9",
   "metadata": {},
   "outputs": [],
   "source": [
    "(x_train, y_train), (x_test, y_test) = imdb.load_data(num_words = 10000)"
   ]
  },
  {
   "cell_type": "code",
   "execution_count": 20,
   "id": "a628e308",
   "metadata": {},
   "outputs": [],
   "source": [
    "import numpy as np\n",
    "def vectorization(data, dim : int = 10000):\n",
    "    res = np.zeros(shape = (len(data), dim))\n",
    "    print(res.shape)\n",
    "    for d in range(len(data)):\n",
    "        for j in data[0]:\n",
    "            res[d][j] = 1\n",
    "    return res"
   ]
  },
  {
   "cell_type": "code",
   "execution_count": 21,
   "id": "0ccc9a9a",
   "metadata": {},
   "outputs": [
    {
     "name": "stdout",
     "output_type": "stream",
     "text": [
      "(25000, 10000)\n"
     ]
    }
   ],
   "source": [
    "x_train = vectorization(x_train)\n",
    "y_train = y_train.reshape(len(y_train), 1)"
   ]
  },
  {
   "cell_type": "code",
   "execution_count": 22,
   "id": "86be54f4",
   "metadata": {},
   "outputs": [
    {
     "data": {
      "text/plain": [
       "(25000, 10000)"
      ]
     },
     "execution_count": 22,
     "metadata": {},
     "output_type": "execute_result"
    }
   ],
   "source": [
    "x_train.shape"
   ]
  },
  {
   "cell_type": "code",
   "execution_count": 23,
   "id": "b43b32e3",
   "metadata": {},
   "outputs": [],
   "source": [
    "x_train = np.asarray(x_train).astype('float32')"
   ]
  },
  {
   "cell_type": "code",
   "execution_count": 24,
   "id": "3ecf1641",
   "metadata": {},
   "outputs": [],
   "source": [
    "y_train  = np.asarray(y_train).astype('float32')"
   ]
  },
  {
   "cell_type": "code",
   "execution_count": 25,
   "id": "bd9c21b6",
   "metadata": {},
   "outputs": [],
   "source": [
    "x_train = torch.from_numpy(x_train)\n",
    "y_train = torch.from_numpy(y_train)"
   ]
  },
  {
   "cell_type": "code",
   "execution_count": 59,
   "id": "038f7453",
   "metadata": {},
   "outputs": [],
   "source": [
    "# model = torch.nn.Sequential(\n",
    "#     torch.nn.Linear(10000, 64),\n",
    "#     torch.nn.ReLU(),\n",
    "#     torch.nn.Linear(64, 64),\n",
    "#     torch.nn.ReLU(),\n",
    "#     torch.nn.Linear(64, 1),\n",
    "#     torch.nn.Sigmoid()\n",
    "# )\n",
    "\n",
    "class IMDBClassifierNetwork(torch.nn.Module):\n",
    "    \n",
    "    def __init__(self):\n",
    "        super(IMDBClassifierNetwork, self).__init__()\n",
    "        self.l1 = torch.nn.Linear(10000, 16)\n",
    "        self.l2 = torch.nn.ReLU()\n",
    "        self.l3 = torch.nn.Linear(16, 16)\n",
    "        self.l4 = torch.nn.ReLU()\n",
    "        self.l5 = torch.nn.Linear(16, 1)\n",
    "        self.l6 = torch.nn.ReLU()\n",
    "        self.l7 = torch.nn.Sigmoid()\n",
    "        \n",
    "    def forward(self, x):\n",
    "        x = self.l1(x)\n",
    "        x = self.l2(x)\n",
    "        x = self.l3(x)\n",
    "        x = self.l4(x)\n",
    "        x = self.l5(x)\n",
    "        x = self.l6(x)\n",
    "        x = self.l7(x)\n",
    "        return x"
   ]
  },
  {
   "cell_type": "code",
   "execution_count": 60,
   "id": "0b961961",
   "metadata": {},
   "outputs": [],
   "source": [
    "import torchsummary"
   ]
  },
  {
   "cell_type": "code",
   "execution_count": 70,
   "id": "fd6ec353",
   "metadata": {},
   "outputs": [
    {
     "name": "stdout",
     "output_type": "stream",
     "text": [
      "----------------------------------------------------------------\n",
      "        Layer (type)               Output Shape         Param #\n",
      "================================================================\n",
      "            Linear-1                   [-1, 16]         160,016\n",
      "              ReLU-2                   [-1, 16]               0\n",
      "            Linear-3                   [-1, 16]             272\n",
      "              ReLU-4                   [-1, 16]               0\n",
      "            Linear-5                    [-1, 1]              17\n",
      "              ReLU-6                    [-1, 1]               0\n",
      "           Sigmoid-7                    [-1, 1]               0\n",
      "================================================================\n",
      "Total params: 160,305\n",
      "Trainable params: 160,305\n",
      "Non-trainable params: 0\n",
      "----------------------------------------------------------------\n",
      "Input size (MB): 0.04\n",
      "Forward/backward pass size (MB): 0.00\n",
      "Params size (MB): 0.61\n",
      "Estimated Total Size (MB): 0.65\n",
      "----------------------------------------------------------------\n"
     ]
    }
   ],
   "source": [
    "# torchsummary.summary(model, input_size = (10000,))\n",
    "model = IMDBClassifierNetwork()"
   ]
  },
  {
   "cell_type": "code",
   "execution_count": 75,
   "id": "8dbd80c8",
   "metadata": {},
   "outputs": [],
   "source": [
    "model = IMDBClassifierNetwork()\n",
    "criteria = torch.nn.BCELoss()    "
   ]
  },
  {
   "cell_type": "code",
   "execution_count": 76,
   "id": "88d5b2f1",
   "metadata": {},
   "outputs": [],
   "source": [
    "optimizer = torch.optim.Adam(model.parameters(), lr = 0.001)"
   ]
  },
  {
   "cell_type": "code",
   "execution_count": 73,
   "id": "3dc93bd8",
   "metadata": {},
   "outputs": [],
   "source": [
    "epochs = 50"
   ]
  },
  {
   "cell_type": "code",
   "execution_count": 74,
   "id": "194658ea",
   "metadata": {},
   "outputs": [
    {
     "name": "stdout",
     "output_type": "stream",
     "text": [
      "[*] Epoch : 0 Loss : 0.6931474208831787\n",
      "[*] Epoch : 0 Accuracy : 0.5\n",
      "[*] Epoch : 1 Loss : 0.6931474208831787\n",
      "[*] Epoch : 1 Accuracy : 0.5\n",
      "[*] Epoch : 2 Loss : 0.6931474208831787\n",
      "[*] Epoch : 2 Accuracy : 0.5\n",
      "[*] Epoch : 3 Loss : 0.6931474208831787\n",
      "[*] Epoch : 3 Accuracy : 0.5\n",
      "[*] Epoch : 4 Loss : 0.6931474208831787\n",
      "[*] Epoch : 4 Accuracy : 0.5\n",
      "[*] Epoch : 5 Loss : 0.6931474208831787\n",
      "[*] Epoch : 5 Accuracy : 0.5\n",
      "[*] Epoch : 6 Loss : 0.6931474208831787\n",
      "[*] Epoch : 6 Accuracy : 0.5\n",
      "[*] Epoch : 7 Loss : 0.6931474208831787\n",
      "[*] Epoch : 7 Accuracy : 0.5\n",
      "[*] Epoch : 8 Loss : 0.6931474208831787\n",
      "[*] Epoch : 8 Accuracy : 0.5\n",
      "[*] Epoch : 9 Loss : 0.6931474208831787\n",
      "[*] Epoch : 9 Accuracy : 0.5\n",
      "[*] Epoch : 10 Loss : 0.6931474208831787\n",
      "[*] Epoch : 10 Accuracy : 0.5\n",
      "[*] Epoch : 11 Loss : 0.6931474208831787\n",
      "[*] Epoch : 11 Accuracy : 0.5\n",
      "[*] Epoch : 12 Loss : 0.6931474208831787\n",
      "[*] Epoch : 12 Accuracy : 0.5\n",
      "[*] Epoch : 13 Loss : 0.6931474208831787\n",
      "[*] Epoch : 13 Accuracy : 0.5\n",
      "[*] Epoch : 14 Loss : 0.6931474208831787\n",
      "[*] Epoch : 14 Accuracy : 0.5\n",
      "[*] Epoch : 15 Loss : 0.6931474208831787\n",
      "[*] Epoch : 15 Accuracy : 0.5\n",
      "[*] Epoch : 16 Loss : 0.6931474208831787\n",
      "[*] Epoch : 16 Accuracy : 0.5\n",
      "[*] Epoch : 17 Loss : 0.6931474208831787\n",
      "[*] Epoch : 17 Accuracy : 0.5\n",
      "[*] Epoch : 18 Loss : 0.6931474208831787\n",
      "[*] Epoch : 18 Accuracy : 0.5\n",
      "[*] Epoch : 19 Loss : 0.6931474208831787\n",
      "[*] Epoch : 19 Accuracy : 0.5\n",
      "[*] Epoch : 20 Loss : 0.6931474208831787\n",
      "[*] Epoch : 20 Accuracy : 0.5\n",
      "[*] Epoch : 21 Loss : 0.6931474208831787\n",
      "[*] Epoch : 21 Accuracy : 0.5\n",
      "[*] Epoch : 22 Loss : 0.6931474208831787\n",
      "[*] Epoch : 22 Accuracy : 0.5\n",
      "[*] Epoch : 23 Loss : 0.6931474208831787\n",
      "[*] Epoch : 23 Accuracy : 0.5\n",
      "[*] Epoch : 24 Loss : 0.6931474208831787\n",
      "[*] Epoch : 24 Accuracy : 0.5\n",
      "[*] Epoch : 25 Loss : 0.6931474208831787\n",
      "[*] Epoch : 25 Accuracy : 0.5\n",
      "[*] Epoch : 26 Loss : 0.6931474208831787\n",
      "[*] Epoch : 26 Accuracy : 0.5\n",
      "[*] Epoch : 27 Loss : 0.6931474208831787\n",
      "[*] Epoch : 27 Accuracy : 0.5\n",
      "[*] Epoch : 28 Loss : 0.6931474208831787\n",
      "[*] Epoch : 28 Accuracy : 0.5\n",
      "[*] Epoch : 29 Loss : 0.6931474208831787\n",
      "[*] Epoch : 29 Accuracy : 0.5\n",
      "[*] Epoch : 30 Loss : 0.6931474208831787\n",
      "[*] Epoch : 30 Accuracy : 0.5\n",
      "[*] Epoch : 31 Loss : 0.6931474208831787\n",
      "[*] Epoch : 31 Accuracy : 0.5\n",
      "[*] Epoch : 32 Loss : 0.6931474208831787\n",
      "[*] Epoch : 32 Accuracy : 0.5\n",
      "[*] Epoch : 33 Loss : 0.6931474208831787\n",
      "[*] Epoch : 33 Accuracy : 0.5\n",
      "[*] Epoch : 34 Loss : 0.6931474208831787\n",
      "[*] Epoch : 34 Accuracy : 0.5\n",
      "[*] Epoch : 35 Loss : 0.6931474208831787\n",
      "[*] Epoch : 35 Accuracy : 0.5\n",
      "[*] Epoch : 36 Loss : 0.6931474208831787\n",
      "[*] Epoch : 36 Accuracy : 0.5\n",
      "[*] Epoch : 37 Loss : 0.6931474208831787\n",
      "[*] Epoch : 37 Accuracy : 0.5\n",
      "[*] Epoch : 38 Loss : 0.6931474208831787\n",
      "[*] Epoch : 38 Accuracy : 0.5\n",
      "[*] Epoch : 39 Loss : 0.6931474208831787\n",
      "[*] Epoch : 39 Accuracy : 0.5\n",
      "[*] Epoch : 40 Loss : 0.6931474208831787\n",
      "[*] Epoch : 40 Accuracy : 0.5\n",
      "[*] Epoch : 41 Loss : 0.6931474208831787\n",
      "[*] Epoch : 41 Accuracy : 0.5\n",
      "[*] Epoch : 42 Loss : 0.6931474208831787\n",
      "[*] Epoch : 42 Accuracy : 0.5\n",
      "[*] Epoch : 43 Loss : 0.6931474208831787\n",
      "[*] Epoch : 43 Accuracy : 0.5\n",
      "[*] Epoch : 44 Loss : 0.6931474208831787\n",
      "[*] Epoch : 44 Accuracy : 0.5\n",
      "[*] Epoch : 45 Loss : 0.6931474208831787\n",
      "[*] Epoch : 45 Accuracy : 0.5\n",
      "[*] Epoch : 46 Loss : 0.6931474208831787\n",
      "[*] Epoch : 46 Accuracy : 0.5\n",
      "[*] Epoch : 47 Loss : 0.6931474208831787\n",
      "[*] Epoch : 47 Accuracy : 0.5\n",
      "[*] Epoch : 48 Loss : 0.6931474208831787\n",
      "[*] Epoch : 48 Accuracy : 0.5\n",
      "[*] Epoch : 49 Loss : 0.6931474208831787\n",
      "[*] Epoch : 49 Accuracy : 0.5\n"
     ]
    }
   ],
   "source": [
    "for e in range(epochs):\n",
    "    y_pred = model(x_train)\n",
    "    loss = criteria(y_pred, y_train)\n",
    "    print(f\"[*] Epoch : {e} Loss : {loss.item()}\")\n",
    "    hit_count = 0\n",
    "    for i in range(len(y_pred)):\n",
    "        c = 0\n",
    "        if y_pred[i][0] > 0.5:\n",
    "            c = 1\n",
    "        if c == y_train[i][0]:\n",
    "            hit_count += 1\n",
    "    acc = hit_count / len(y_pred)\n",
    "    print(f\"[*] Epoch : {e} Accuracy : {acc}\")\n",
    "    optimizer.zero_grad()\n",
    "    loss.backward()\n",
    "    optimizer.step()"
   ]
  },
  {
   "cell_type": "code",
   "execution_count": null,
   "id": "e6af4f16",
   "metadata": {},
   "outputs": [],
   "source": []
  },
  {
   "cell_type": "code",
   "execution_count": null,
   "id": "d163850f",
   "metadata": {},
   "outputs": [],
   "source": []
  },
  {
   "cell_type": "code",
   "execution_count": null,
   "id": "15e4dec7",
   "metadata": {},
   "outputs": [],
   "source": []
  }
 ],
 "metadata": {
  "kernelspec": {
   "display_name": "Python 3 (ipykernel)",
   "language": "python",
   "name": "python3"
  },
  "language_info": {
   "codemirror_mode": {
    "name": "ipython",
    "version": 3
   },
   "file_extension": ".py",
   "mimetype": "text/x-python",
   "name": "python",
   "nbconvert_exporter": "python",
   "pygments_lexer": "ipython3",
   "version": "3.8.10"
  }
 },
 "nbformat": 4,
 "nbformat_minor": 5
}
