{
 "cells": [
  {
   "cell_type": "code",
   "execution_count": 2,
   "id": "5af2f91d",
   "metadata": {},
   "outputs": [],
   "source": [
    "from keras.utils import load_img, img_to_array"
   ]
  },
  {
   "cell_type": "code",
   "execution_count": 3,
   "id": "0ffc6545",
   "metadata": {},
   "outputs": [
    {
     "name": "stdout",
     "output_type": "stream",
     "text": [
      "lstm_char_level_generator.ipynb  \u001b[0m\u001b[01;35mpotrait.png\u001b[0m\r\n",
      "NeuralStyleTransfer.ipynb        \u001b[01;35mrefrence.png\u001b[0m\r\n"
     ]
    }
   ],
   "source": [
    "%ls"
   ]
  },
  {
   "cell_type": "code",
   "execution_count": 4,
   "id": "da30f43e",
   "metadata": {},
   "outputs": [],
   "source": [
    "target_img_path = './potrait.png'\n",
    "reference_img_path = './refrence.png'"
   ]
  },
  {
   "cell_type": "code",
   "execution_count": 5,
   "id": "a720a9d8",
   "metadata": {},
   "outputs": [],
   "source": [
    "width, height = load_img(target_img_path).size\n",
    "img_height = 400\n",
    "img_width = int(width * img_height / height)"
   ]
  },
  {
   "cell_type": "code",
   "execution_count": 6,
   "id": "628d03ba",
   "metadata": {},
   "outputs": [],
   "source": [
    "import numpy as np\n",
    "from keras.applications import vgg19"
   ]
  },
  {
   "cell_type": "code",
   "execution_count": 8,
   "id": "52e588c4",
   "metadata": {},
   "outputs": [],
   "source": [
    "def preprocess_img(img_path):\n",
    "    img = load_img(img_path, target_size = (img_height, img_width))\n",
    "    img = img_to_array(img)\n",
    "    img = vgg19.preprocess_input(img)\n",
    "    return img"
   ]
  },
  {
   "cell_type": "code",
   "execution_count": 9,
   "id": "9ef4ac86",
   "metadata": {},
   "outputs": [],
   "source": [
    "def deprocess_img(x):\n",
    "    x[:, :, 0] += 103.939\n",
    "    x[:, :, 1] += 116.779\n",
    "    x[:, :, 2] += 123.68\n",
    "    x = x[:, :, ::-1]\n",
    "    x = np.clip(x, 0, 255).astype('unit8')\n",
    "    return x"
   ]
  },
  {
   "cell_type": "code",
   "execution_count": null,
   "id": "8d5ed6a8",
   "metadata": {},
   "outputs": [],
   "source": []
  }
 ],
 "metadata": {
  "kernelspec": {
   "display_name": "Python 3 (ipykernel)",
   "language": "python",
   "name": "python3"
  },
  "language_info": {
   "codemirror_mode": {
    "name": "ipython",
    "version": 3
   },
   "file_extension": ".py",
   "mimetype": "text/x-python",
   "name": "python",
   "nbconvert_exporter": "python",
   "pygments_lexer": "ipython3",
   "version": "3.8.10"
  }
 },
 "nbformat": 4,
 "nbformat_minor": 5
}
