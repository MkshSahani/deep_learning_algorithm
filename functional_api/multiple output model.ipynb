{
 "cells": [
  {
   "cell_type": "code",
   "execution_count": 2,
   "id": "629eebb2",
   "metadata": {},
   "outputs": [],
   "source": [
    "from keras import Input, layers, models"
   ]
  },
  {
   "cell_type": "code",
   "execution_count": 3,
   "id": "245e4ed6",
   "metadata": {},
   "outputs": [],
   "source": [
    "post_vocab_size = 5000\n",
    "num_of_income_lvl = 10"
   ]
  },
  {
   "cell_type": "code",
   "execution_count": 9,
   "id": "983e574c",
   "metadata": {},
   "outputs": [],
   "source": [
    "post_input = Input(shape = (None,), dtype = 'int32', name = 'post')\n",
    "post_embedding = layers.Embedding(post_vocab_size, 256)(post_input)\n",
    "x = layers.Conv1D(128, 5, activation = 'relu')(post_embedding)\n",
    "x = layers.MaxPooling1D(5)(x)\n",
    "x = layers.Conv1D(256, 5, activation = 'relu')(x)\n",
    "x = layers.Conv1D(256, 5, activation = 'relu')(x)\n",
    "x = layers.MaxPooling1D(5)(x)\n",
    "\n",
    "x = layers.Conv1D(256, 5, activation = 'relu')(x)\n",
    "x = layers.Conv1D(256, 5, activation = 'relu')(x)\n",
    "x = layers.MaxPooling1D()(x)\n",
    "\n",
    "age_prediction = layers.Dense(1, name = 'age')(x)\n",
    "income_prediction = layers.Dense(num_of_income_lvl, activation = 'softmax',name = 'income')(x)\n",
    "age_prediction = layers.Dense(1, activation = 'sigmoid', name = 'gender')(x)\n",
    "\n",
    "model = models.Model(post_input, [age_prediction, income_prediction, age_prediction])"
   ]
  },
  {
   "cell_type": "code",
   "execution_count": 10,
   "id": "1bbbc3d9",
   "metadata": {},
   "outputs": [
    {
     "name": "stdout",
     "output_type": "stream",
     "text": [
      "Model: \"model_3\"\n",
      "__________________________________________________________________________________________________\n",
      " Layer (type)                   Output Shape         Param #     Connected to                     \n",
      "==================================================================================================\n",
      " post (InputLayer)              [(None, None)]       0           []                               \n",
      "                                                                                                  \n",
      " embedding_5 (Embedding)        (None, None, 256)    1280000     ['post[0][0]']                   \n",
      "                                                                                                  \n",
      " conv1d_25 (Conv1D)             (None, None, 128)    163968      ['embedding_5[0][0]']            \n",
      "                                                                                                  \n",
      " max_pooling1d_15 (MaxPooling1D  (None, None, 128)   0           ['conv1d_25[0][0]']              \n",
      " )                                                                                                \n",
      "                                                                                                  \n",
      " conv1d_26 (Conv1D)             (None, None, 256)    164096      ['max_pooling1d_15[0][0]']       \n",
      "                                                                                                  \n",
      " conv1d_27 (Conv1D)             (None, None, 256)    327936      ['conv1d_26[0][0]']              \n",
      "                                                                                                  \n",
      " max_pooling1d_16 (MaxPooling1D  (None, None, 256)   0           ['conv1d_27[0][0]']              \n",
      " )                                                                                                \n",
      "                                                                                                  \n",
      " conv1d_28 (Conv1D)             (None, None, 256)    327936      ['max_pooling1d_16[0][0]']       \n",
      "                                                                                                  \n",
      " conv1d_29 (Conv1D)             (None, None, 256)    327936      ['conv1d_28[0][0]']              \n",
      "                                                                                                  \n",
      " max_pooling1d_17 (MaxPooling1D  (None, None, 256)   0           ['conv1d_29[0][0]']              \n",
      " )                                                                                                \n",
      "                                                                                                  \n",
      " gender (Dense)                 (None, None, 1)      257         ['max_pooling1d_17[0][0]']       \n",
      "                                                                                                  \n",
      " income (Dense)                 (None, None, 10)     2570        ['max_pooling1d_17[0][0]']       \n",
      "                                                                                                  \n",
      "==================================================================================================\n",
      "Total params: 2,594,699\n",
      "Trainable params: 2,594,699\n",
      "Non-trainable params: 0\n",
      "__________________________________________________________________________________________________\n"
     ]
    }
   ],
   "source": [
    "model.summary()"
   ]
  },
  {
   "cell_type": "code",
   "execution_count": null,
   "id": "745c7011",
   "metadata": {},
   "outputs": [],
   "source": []
  }
 ],
 "metadata": {
  "kernelspec": {
   "display_name": "Python 3 (ipykernel)",
   "language": "python",
   "name": "python3"
  },
  "language_info": {
   "codemirror_mode": {
    "name": "ipython",
    "version": 3
   },
   "file_extension": ".py",
   "mimetype": "text/x-python",
   "name": "python",
   "nbconvert_exporter": "python",
   "pygments_lexer": "ipython3",
   "version": "3.8.10"
  }
 },
 "nbformat": 4,
 "nbformat_minor": 5
}
