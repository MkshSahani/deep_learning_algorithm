{
 "cells": [
  {
   "cell_type": "code",
   "execution_count": 2,
   "id": "ee8bb2f8",
   "metadata": {},
   "outputs": [],
   "source": [
    "from keras import Input, layers, models"
   ]
  },
  {
   "cell_type": "code",
   "execution_count": 3,
   "id": "c0fd4c5e",
   "metadata": {},
   "outputs": [
    {
     "name": "stderr",
     "output_type": "stream",
     "text": [
      "2024-07-10 13:16:49.053698: W tensorflow/stream_executor/platform/default/dso_loader.cc:64] Could not load dynamic library 'libcuda.so.1'; dlerror: libcuda.so.1: cannot open shared object file: No such file or directory\n",
      "2024-07-10 13:16:49.054039: W tensorflow/stream_executor/cuda/cuda_driver.cc:263] failed call to cuInit: UNKNOWN ERROR (303)\n",
      "2024-07-10 13:16:49.054071: I tensorflow/stream_executor/cuda/cuda_diagnostics.cc:156] kernel driver does not appear to be running on this host (mukesh-ThinkPad-E14): /proc/driver/nvidia/version does not exist\n",
      "2024-07-10 13:16:49.054685: I tensorflow/core/platform/cpu_feature_guard.cc:193] This TensorFlow binary is optimized with oneAPI Deep Neural Network Library (oneDNN) to use the following CPU instructions in performance-critical operations:  AVX2 FMA\n",
      "To enable them in other operations, rebuild TensorFlow with the appropriate compiler flags.\n"
     ]
    }
   ],
   "source": [
    "lst = layers.LSTM(32)\n",
    "left_input = Input(shape = (None, 128))\n",
    "left_output=  lst(left_input)\n",
    "\n",
    "right_input = Input(shape = (None, 128))\n",
    "right_output = lst(right_input)\n",
    "\n",
    "\n",
    "model = models.Model([left_input, right_input], left_output, )"
   ]
  },
  {
   "cell_type": "code",
   "execution_count": null,
   "id": "ca00f8dd",
   "metadata": {},
   "outputs": [],
   "source": []
  }
 ],
 "metadata": {
  "kernelspec": {
   "display_name": "Python 3 (ipykernel)",
   "language": "python",
   "name": "python3"
  },
  "language_info": {
   "codemirror_mode": {
    "name": "ipython",
    "version": 3
   },
   "file_extension": ".py",
   "mimetype": "text/x-python",
   "name": "python",
   "nbconvert_exporter": "python",
   "pygments_lexer": "ipython3",
   "version": "3.8.10"
  }
 },
 "nbformat": 4,
 "nbformat_minor": 5
}
