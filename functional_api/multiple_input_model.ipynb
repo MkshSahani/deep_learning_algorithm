{
 "cells": [
  {
   "cell_type": "code",
   "execution_count": 2,
   "id": "9bf70c48",
   "metadata": {},
   "outputs": [],
   "source": [
    "from keras import Input, layers, models"
   ]
  },
  {
   "cell_type": "code",
   "execution_count": 8,
   "id": "03822a24",
   "metadata": {},
   "outputs": [],
   "source": [
    "text_vocab_size = 10000\n",
    "question_vocab_size = 10000\n",
    "ans_vocab_size = 500\n",
    "\n",
    "text_input = Input(shape = (None,), dtype = 'int32', name = 'text')\n",
    "embedded_text = layers.Embedding(text_vocab_size, 64)(text_input)\n",
    "encoded_text = layers.LSTM(32)(embedded_text)\n",
    "\n",
    "question_input = Input(shape = (None,), dtype = 'int32', name = 'question')\n",
    "embedded_question = layers.Embedding(question_vocab_size, 32)(question_input)\n",
    "encoded_question = layers.LSTM(16)(embedded_question)\n",
    "\n",
    "concatenated = layers.concatenate([encoded_text, encoded_question], axis = -1)\n",
    "answer = layers.Dense(ans_vocab_size, activation = 'softmax')(concatenated)\n",
    "\n",
    "model = models.Model([text_input, question_input], answer)"
   ]
  },
  {
   "cell_type": "code",
   "execution_count": 9,
   "id": "4f80e751",
   "metadata": {},
   "outputs": [
    {
     "name": "stdout",
     "output_type": "stream",
     "text": [
      "Model: \"model\"\n",
      "__________________________________________________________________________________________________\n",
      " Layer (type)                   Output Shape         Param #     Connected to                     \n",
      "==================================================================================================\n",
      " text (InputLayer)              [(None, None)]       0           []                               \n",
      "                                                                                                  \n",
      " question (InputLayer)          [(None, None)]       0           []                               \n",
      "                                                                                                  \n",
      " embedding_8 (Embedding)        (None, None, 64)     640000      ['text[0][0]']                   \n",
      "                                                                                                  \n",
      " embedding_9 (Embedding)        (None, None, 32)     320000      ['question[0][0]']               \n",
      "                                                                                                  \n",
      " lstm_8 (LSTM)                  (None, 32)           12416       ['embedding_8[0][0]']            \n",
      "                                                                                                  \n",
      " lstm_9 (LSTM)                  (None, 16)           3136        ['embedding_9[0][0]']            \n",
      "                                                                                                  \n",
      " concatenate_1 (Concatenate)    (None, 48)           0           ['lstm_8[0][0]',                 \n",
      "                                                                  'lstm_9[0][0]']                 \n",
      "                                                                                                  \n",
      " dense (Dense)                  (None, 500)          24500       ['concatenate_1[0][0]']          \n",
      "                                                                                                  \n",
      "==================================================================================================\n",
      "Total params: 1,000,052\n",
      "Trainable params: 1,000,052\n",
      "Non-trainable params: 0\n",
      "__________________________________________________________________________________________________\n"
     ]
    }
   ],
   "source": [
    "model.summary()"
   ]
  },
  {
   "cell_type": "code",
   "execution_count": 24,
   "id": "175407fb",
   "metadata": {},
   "outputs": [],
   "source": [
    "import numpy as np\n",
    "\n",
    "num_samples = 1000\n",
    "max_length = 100\n",
    "\n",
    "text = np.random.randint(1, text_vocab_size, size = (num_samples, max_length))\n",
    "question = np.random.randint(1, question_vocab_size, size = (num_samples, max_length))\n",
    "\n",
    "answer = np.random.randint(0, 2, size = (num_samples, ans_vocab_size))"
   ]
  },
  {
   "cell_type": "code",
   "execution_count": 25,
   "id": "ce2eb7a6",
   "metadata": {},
   "outputs": [],
   "source": [
    "model.compile(\n",
    "    optimizer = 'rmsprop',\n",
    "    loss = 'categorical_crossentropy',\n",
    "    metrics = ['acc']\n",
    ")"
   ]
  },
  {
   "cell_type": "code",
   "execution_count": 26,
   "id": "36dbad27",
   "metadata": {},
   "outputs": [
    {
     "name": "stdout",
     "output_type": "stream",
     "text": [
      "Epoch 1/10\n",
      "8/8 [==============================] - 4s 50ms/step - loss: 1566.8929 - acc: 0.0000e+00\n",
      "Epoch 2/10\n",
      "8/8 [==============================] - 0s 51ms/step - loss: 1567.5623 - acc: 0.0000e+00\n",
      "Epoch 3/10\n",
      "8/8 [==============================] - 0s 53ms/step - loss: 1567.9556 - acc: 0.0000e+00\n",
      "Epoch 4/10\n",
      "8/8 [==============================] - 0s 52ms/step - loss: 1568.2949 - acc: 0.0000e+00\n",
      "Epoch 5/10\n",
      "8/8 [==============================] - 0s 51ms/step - loss: 1568.6013 - acc: 0.0000e+00\n",
      "Epoch 6/10\n",
      "8/8 [==============================] - 0s 55ms/step - loss: 1568.8540 - acc: 0.0000e+00\n",
      "Epoch 7/10\n",
      "8/8 [==============================] - 0s 52ms/step - loss: 1569.0653 - acc: 0.0000e+00\n",
      "Epoch 8/10\n",
      "8/8 [==============================] - 0s 51ms/step - loss: 1569.2908 - acc: 0.0000e+00\n",
      "Epoch 9/10\n",
      "8/8 [==============================] - 0s 51ms/step - loss: 1569.4644 - acc: 0.0000e+00\n",
      "Epoch 10/10\n",
      "8/8 [==============================] - 0s 51ms/step - loss: 1569.6100 - acc: 0.0000e+00\n"
     ]
    }
   ],
   "source": [
    "history = model.fit(\n",
    "    {\n",
    "        'text': text,\n",
    "        'question': question\n",
    "    },\n",
    "    answer,\n",
    "    batch_size = 128,\n",
    "    epochs = 10\n",
    ")"
   ]
  },
  {
   "cell_type": "code",
   "execution_count": null,
   "id": "40eb9a13",
   "metadata": {},
   "outputs": [],
   "source": []
  }
 ],
 "metadata": {
  "kernelspec": {
   "display_name": "Python 3 (ipykernel)",
   "language": "python",
   "name": "python3"
  },
  "language_info": {
   "codemirror_mode": {
    "name": "ipython",
    "version": 3
   },
   "file_extension": ".py",
   "mimetype": "text/x-python",
   "name": "python",
   "nbconvert_exporter": "python",
   "pygments_lexer": "ipython3",
   "version": "3.8.10"
  }
 },
 "nbformat": 4,
 "nbformat_minor": 5
}
