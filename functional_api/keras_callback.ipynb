{
 "cells": [
  {
   "cell_type": "code",
   "execution_count": 65,
   "id": "31a5b54b",
   "metadata": {},
   "outputs": [],
   "source": [
    "import keras\n",
    "from keras import layers, models, Input\n",
    "from keras.datasets import imdb\n",
    "import numpy as np"
   ]
  },
  {
   "cell_type": "code",
   "execution_count": 66,
   "id": "4e81764f",
   "metadata": {},
   "outputs": [],
   "source": [
    "(x_train, y_train), (x_test, y_test) = imdb.load_data(num_words = 10000)"
   ]
  },
  {
   "cell_type": "code",
   "execution_count": 67,
   "id": "e7e493fa",
   "metadata": {},
   "outputs": [
    {
     "data": {
      "text/plain": [
       "(25000,)"
      ]
     },
     "execution_count": 67,
     "metadata": {},
     "output_type": "execute_result"
    }
   ],
   "source": [
    "x_train.shape"
   ]
  },
  {
   "cell_type": "code",
   "execution_count": 68,
   "id": "d1f7303b",
   "metadata": {},
   "outputs": [],
   "source": [
    "def vectorization(data, dim = 10000):\n",
    "    res = np.zeros(shape = (data.shape[0], dim))\n",
    "    for i, seq in enumerate(data):\n",
    "        for j in seq:\n",
    "            res[i, j] = 1\n",
    "    return res"
   ]
  },
  {
   "cell_type": "code",
   "execution_count": 69,
   "id": "9ab9724a",
   "metadata": {},
   "outputs": [],
   "source": [
    "# x_train = vectorization(x_train)\n",
    "# print(x_train.shape)"
   ]
  },
  {
   "cell_type": "code",
   "execution_count": 70,
   "id": "123fe17d",
   "metadata": {},
   "outputs": [],
   "source": [
    "x_val = x_train[:5000]\n",
    "y_val = y_train[:5000]"
   ]
  },
  {
   "cell_type": "code",
   "execution_count": 71,
   "id": "7263e070",
   "metadata": {},
   "outputs": [],
   "source": [
    "x_train = x_train[5000:]\n",
    "y_train = y_train[5000:]\n",
    "\n",
    "x_train = vectorization(x_train)\n",
    "x_val = vectorization(x_val)"
   ]
  },
  {
   "cell_type": "code",
   "execution_count": 72,
   "id": "9f6bdb69",
   "metadata": {},
   "outputs": [],
   "source": [
    "y_train = np.asarray(y_train).astype('float64')"
   ]
  },
  {
   "cell_type": "code",
   "execution_count": 73,
   "id": "4f6e4ab4",
   "metadata": {},
   "outputs": [],
   "source": [
    "x_train = np.asarray(x_train).astype('float64')"
   ]
  },
  {
   "cell_type": "code",
   "execution_count": 74,
   "id": "775ea78b",
   "metadata": {},
   "outputs": [],
   "source": [
    "x_val = np.asarray(x_val).astype('float64')\n",
    "y_val = np.asarray(y_val).astype('float64')"
   ]
  },
  {
   "cell_type": "code",
   "execution_count": 75,
   "id": "798f4948",
   "metadata": {},
   "outputs": [],
   "source": [
    "def get_model():\n",
    "    input_layer = Input(shape = (10000,))\n",
    "    x = layers.Dense(64, activation = 'relu')(input_layer)\n",
    "    x = layers.Dense(128, activation = 'relu')(x)\n",
    "    x = layers.Dense(128, activation = 'relu')(x)\n",
    "    output_layer = layers.Dense(1, activation = 'sigmoid')(x)\n",
    "    \n",
    "    model = models.Model(input_layer, output_layer)\n",
    "    \n",
    "    model.compile(\n",
    "        optimizer = 'rmsprop',\n",
    "        metrics = ['acc'],\n",
    "        loss = 'binary_crossentropy'\n",
    "    )\n",
    "    \n",
    "    return model"
   ]
  },
  {
   "cell_type": "code",
   "execution_count": 76,
   "id": "f2b694d2",
   "metadata": {},
   "outputs": [
    {
     "name": "stdout",
     "output_type": "stream",
     "text": [
      "(20000, 10000)\n",
      "(5000, 10000)\n"
     ]
    }
   ],
   "source": []
  },
  {
   "cell_type": "code",
   "execution_count": 77,
   "id": "e2fb6e84",
   "metadata": {},
   "outputs": [
    {
     "name": "stdout",
     "output_type": "stream",
     "text": [
      "Model: \"model_5\"\n",
      "_________________________________________________________________\n",
      " Layer (type)                Output Shape              Param #   \n",
      "=================================================================\n",
      " input_7 (InputLayer)        [(None, 10000)]           0         \n",
      "                                                                 \n",
      " dense_21 (Dense)            (None, 64)                640064    \n",
      "                                                                 \n",
      " dense_22 (Dense)            (None, 128)               8320      \n",
      "                                                                 \n",
      " dense_23 (Dense)            (None, 128)               16512     \n",
      "                                                                 \n",
      " dense_24 (Dense)            (None, 1)                 129       \n",
      "                                                                 \n",
      "=================================================================\n",
      "Total params: 665,025\n",
      "Trainable params: 665,025\n",
      "Non-trainable params: 0\n",
      "_________________________________________________________________\n"
     ]
    }
   ],
   "source": [
    "network.summary()"
   ]
  },
  {
   "cell_type": "code",
   "execution_count": 78,
   "id": "659f9ab7",
   "metadata": {},
   "outputs": [
    {
     "name": "stderr",
     "output_type": "stream",
     "text": [
      "2024-07-11 12:23:12.429048: W tensorflow/core/framework/cpu_allocator_impl.cc:82] Allocation of 800000000 exceeds 10% of free system memory.\n"
     ]
    },
    {
     "name": "stdout",
     "output_type": "stream",
     "text": [
      "Epoch 1/10\n",
      "156/157 [============================>.] - ETA: 0s - loss: 0.3588 - acc: 0.8450"
     ]
    },
    {
     "name": "stderr",
     "output_type": "stream",
     "text": [
      "2024-07-11 12:23:16.832273: W tensorflow/core/framework/cpu_allocator_impl.cc:82] Allocation of 200000000 exceeds 10% of free system memory.\n"
     ]
    },
    {
     "name": "stdout",
     "output_type": "stream",
     "text": [
      "157/157 [==============================] - 3s 16ms/step - loss: 0.3588 - acc: 0.8450 - val_loss: 0.2845 - val_acc: 0.8854\n",
      "Epoch 2/10\n",
      "157/157 [==============================] - 2s 14ms/step - loss: 0.1934 - acc: 0.9276 - val_loss: 0.2951 - val_acc: 0.8894\n",
      "Epoch 3/10\n",
      "157/157 [==============================] - 2s 15ms/step - loss: 0.1197 - acc: 0.9567 - val_loss: 0.4510 - val_acc: 0.8736\n",
      "Epoch 4/10\n",
      "157/157 [==============================] - 3s 16ms/step - loss: 0.0672 - acc: 0.9769 - val_loss: 0.7566 - val_acc: 0.8526\n",
      "Epoch 5/10\n",
      "157/157 [==============================] - 3s 16ms/step - loss: 0.0412 - acc: 0.9878 - val_loss: 0.7216 - val_acc: 0.8768\n",
      "Epoch 6/10\n",
      "157/157 [==============================] - 2s 14ms/step - loss: 0.0272 - acc: 0.9935 - val_loss: 0.9580 - val_acc: 0.8754\n",
      "Epoch 7/10\n",
      "157/157 [==============================] - 2s 14ms/step - loss: 0.0166 - acc: 0.9962 - val_loss: 1.0753 - val_acc: 0.8812\n",
      "Epoch 8/10\n",
      "157/157 [==============================] - 2s 15ms/step - loss: 0.0123 - acc: 0.9976 - val_loss: 1.4015 - val_acc: 0.8740\n",
      "Epoch 9/10\n",
      "157/157 [==============================] - 2s 16ms/step - loss: 0.0139 - acc: 0.9975 - val_loss: 1.2782 - val_acc: 0.8770\n",
      "Epoch 10/10\n",
      "157/157 [==============================] - 3s 17ms/step - loss: 0.0121 - acc: 0.9988 - val_loss: 1.6710 - val_acc: 0.8770\n"
     ]
    }
   ],
   "source": [
    "\n",
    "network = get_model()\n",
    "history = network.fit(x_train, y_train, epochs = 10, batch_size = 128, validation_data = (x_val, y_val))"
   ]
  },
  {
   "cell_type": "code",
   "execution_count": 79,
   "id": "dccd6f7d",
   "metadata": {},
   "outputs": [
    {
     "data": {
      "text/plain": [
       "(20000, 10000)"
      ]
     },
     "execution_count": 79,
     "metadata": {},
     "output_type": "execute_result"
    }
   ],
   "source": [
    "x_train.shape"
   ]
  },
  {
   "cell_type": "code",
   "execution_count": null,
   "id": "a2c59576",
   "metadata": {},
   "outputs": [],
   "source": [
    "callback_list = [\n",
    "    keras.callbacks.EarlyStopping(\n",
    "        monitor = 'acc',\n",
    "        patience = 1\n",
    "    ),\n",
    "    keras.callbacks.ModelCheckpoint(\n",
    "        filepath = 'imdbModel.h5',\n",
    "        monitor = 'val_acc',\n",
    "        save\n",
    "    )\n",
    "]"
   ]
  }
 ],
 "metadata": {
  "kernelspec": {
   "display_name": "Python 3 (ipykernel)",
   "language": "python",
   "name": "python3"
  },
  "language_info": {
   "codemirror_mode": {
    "name": "ipython",
    "version": 3
   },
   "file_extension": ".py",
   "mimetype": "text/x-python",
   "name": "python",
   "nbconvert_exporter": "python",
   "pygments_lexer": "ipython3",
   "version": "3.8.10"
  }
 },
 "nbformat": 4,
 "nbformat_minor": 5
}
