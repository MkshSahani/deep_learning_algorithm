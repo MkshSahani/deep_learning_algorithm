{
 "cells": [
  {
   "cell_type": "code",
   "execution_count": 1,
   "id": "f38d0b1a",
   "metadata": {},
   "outputs": [
    {
     "name": "stderr",
     "output_type": "stream",
     "text": [
      "2024-06-14 11:41:45.495479: I tensorflow/core/platform/cpu_feature_guard.cc:193] This TensorFlow binary is optimized with oneAPI Deep Neural Network Library (oneDNN) to use the following CPU instructions in performance-critical operations:  AVX2 FMA\n",
      "To enable them in other operations, rebuild TensorFlow with the appropriate compiler flags.\n",
      "2024-06-14 11:41:46.013703: W tensorflow/stream_executor/platform/default/dso_loader.cc:64] Could not load dynamic library 'libcudart.so.11.0'; dlerror: libcudart.so.11.0: cannot open shared object file: No such file or directory\n",
      "2024-06-14 11:41:46.013742: I tensorflow/stream_executor/cuda/cudart_stub.cc:29] Ignore above cudart dlerror if you do not have a GPU set up on your machine.\n",
      "2024-06-14 11:41:46.094146: E tensorflow/stream_executor/cuda/cuda_blas.cc:2981] Unable to register cuBLAS factory: Attempting to register factory for plugin cuBLAS when one has already been registered\n",
      "2024-06-14 11:41:47.214939: W tensorflow/stream_executor/platform/default/dso_loader.cc:64] Could not load dynamic library 'libnvinfer.so.7'; dlerror: libnvinfer.so.7: cannot open shared object file: No such file or directory\n",
      "2024-06-14 11:41:47.215011: W tensorflow/stream_executor/platform/default/dso_loader.cc:64] Could not load dynamic library 'libnvinfer_plugin.so.7'; dlerror: libnvinfer_plugin.so.7: cannot open shared object file: No such file or directory\n",
      "2024-06-14 11:41:47.215018: W tensorflow/compiler/tf2tensorrt/utils/py_utils.cc:38] TF-TRT Warning: Cannot dlopen some TensorRT libraries. If you would like to use Nvidia GPU with TensorRT, please make sure the missing libraries mentioned above are installed properly.\n",
      "/usr/lib/python3/dist-packages/requests/__init__.py:89: RequestsDependencyWarning: urllib3 (2.0.5) or chardet (3.0.4) doesn't match a supported version!\n",
      "  warnings.warn(\"urllib3 ({}) or chardet ({}) doesn't match a supported \"\n"
     ]
    }
   ],
   "source": [
    "from keras import layers, models, optimizers"
   ]
  },
  {
   "cell_type": "code",
   "execution_count": 2,
   "id": "4af8e64c",
   "metadata": {},
   "outputs": [],
   "source": [
    "from keras.preprocessing.image import ImageDataGenerator"
   ]
  },
  {
   "cell_type": "code",
   "execution_count": 3,
   "id": "7908b612",
   "metadata": {},
   "outputs": [],
   "source": [
    "dataset_dir = '/home/mukesh/ml_dl_ds/deep_learning_algorithm/dataset'"
   ]
  },
  {
   "cell_type": "code",
   "execution_count": 4,
   "id": "fbc90c51",
   "metadata": {},
   "outputs": [],
   "source": [
    "import os"
   ]
  },
  {
   "cell_type": "code",
   "execution_count": 5,
   "id": "f6437909",
   "metadata": {},
   "outputs": [],
   "source": [
    "train_dir = os.path.join(dataset_dir, 'train')\n",
    "val_dir = os.path.join(dataset_dir, 'test')"
   ]
  },
  {
   "cell_type": "code",
   "execution_count": 6,
   "id": "ef5b9d8e",
   "metadata": {},
   "outputs": [],
   "source": [
    "def get_model():\n",
    "    model = models.Sequential()\n",
    "    model.add(layers.Conv2D(32, (3, 3), activation = 'relu', input_shape = (150, 150, 3)))\n",
    "    model.add(layers.MaxPooling2D((2, 2)))\n",
    "    model.add(layers.Conv2D(64, (3, 3), activation = 'relu'))\n",
    "    model.add(layers.MaxPooling2D((2, 2)))\n",
    "    model.add(layers.Conv2D(128, (3, 3), activation = 'relu'))\n",
    "    model.add(layers.MaxPooling2D((2, 2)))\n",
    "    model.add(layers.Conv2D(128, (3, 3), activation = 'relu'))\n",
    "    model.add(layers.MaxPooling2D((2, 2)))\n",
    "    model.add(layers.Flatten())\n",
    "    model.add(layers.Dropout(0.5))\n",
    "    model.add(layers.Dense(512, activation = 'relu'))\n",
    "    model.add(layers.Dense(1, activation = 'sigmoid'))\n",
    "    \n",
    "    model.compile(\n",
    "        optimizer = optimizers.RMSprop(learning_rate = 1e-4),\n",
    "        loss = 'binary_crossentropy',\n",
    "        metrics = ['acc']\n",
    "    )\n",
    "    \n",
    "    return model"
   ]
  },
  {
   "cell_type": "code",
   "execution_count": 7,
   "id": "3483922b",
   "metadata": {},
   "outputs": [
    {
     "name": "stderr",
     "output_type": "stream",
     "text": [
      "2024-06-14 11:41:48.632376: W tensorflow/stream_executor/platform/default/dso_loader.cc:64] Could not load dynamic library 'libcuda.so.1'; dlerror: libcuda.so.1: cannot open shared object file: No such file or directory\n",
      "2024-06-14 11:41:48.632662: W tensorflow/stream_executor/cuda/cuda_driver.cc:263] failed call to cuInit: UNKNOWN ERROR (303)\n",
      "2024-06-14 11:41:48.632684: I tensorflow/stream_executor/cuda/cuda_diagnostics.cc:156] kernel driver does not appear to be running on this host (mukesh-ThinkPad-E14): /proc/driver/nvidia/version does not exist\n",
      "2024-06-14 11:41:48.633239: I tensorflow/core/platform/cpu_feature_guard.cc:193] This TensorFlow binary is optimized with oneAPI Deep Neural Network Library (oneDNN) to use the following CPU instructions in performance-critical operations:  AVX2 FMA\n",
      "To enable them in other operations, rebuild TensorFlow with the appropriate compiler flags.\n"
     ]
    }
   ],
   "source": [
    "model = get_model()"
   ]
  },
  {
   "cell_type": "code",
   "execution_count": 8,
   "id": "02968a87",
   "metadata": {},
   "outputs": [
    {
     "name": "stdout",
     "output_type": "stream",
     "text": [
      "Model: \"sequential\"\n",
      "_________________________________________________________________\n",
      " Layer (type)                Output Shape              Param #   \n",
      "=================================================================\n",
      " conv2d (Conv2D)             (None, 148, 148, 32)      896       \n",
      "                                                                 \n",
      " max_pooling2d (MaxPooling2D  (None, 74, 74, 32)       0         \n",
      " )                                                               \n",
      "                                                                 \n",
      " conv2d_1 (Conv2D)           (None, 72, 72, 64)        18496     \n",
      "                                                                 \n",
      " max_pooling2d_1 (MaxPooling  (None, 36, 36, 64)       0         \n",
      " 2D)                                                             \n",
      "                                                                 \n",
      " conv2d_2 (Conv2D)           (None, 34, 34, 128)       73856     \n",
      "                                                                 \n",
      " max_pooling2d_2 (MaxPooling  (None, 17, 17, 128)      0         \n",
      " 2D)                                                             \n",
      "                                                                 \n",
      " conv2d_3 (Conv2D)           (None, 15, 15, 128)       147584    \n",
      "                                                                 \n",
      " max_pooling2d_3 (MaxPooling  (None, 7, 7, 128)        0         \n",
      " 2D)                                                             \n",
      "                                                                 \n",
      " flatten (Flatten)           (None, 6272)              0         \n",
      "                                                                 \n",
      " dropout (Dropout)           (None, 6272)              0         \n",
      "                                                                 \n",
      " dense (Dense)               (None, 512)               3211776   \n",
      "                                                                 \n",
      " dense_1 (Dense)             (None, 1)                 513       \n",
      "                                                                 \n",
      "=================================================================\n",
      "Total params: 3,453,121\n",
      "Trainable params: 3,453,121\n",
      "Non-trainable params: 0\n",
      "_________________________________________________________________\n"
     ]
    }
   ],
   "source": [
    "model.summary()"
   ]
  },
  {
   "cell_type": "code",
   "execution_count": 9,
   "id": "d3e80770",
   "metadata": {},
   "outputs": [],
   "source": [
    "train_gen = ImageDataGenerator(\n",
    "    rescale = 1./255,\n",
    "    rotation_range = 40,\n",
    "    width_shift_range = 0.2,\n",
    "    height_shift_range = 0.2,\n",
    "    shear_range = 0.2,\n",
    "    zoom_range = 0.2,\n",
    "    horizontal_flip = True,\n",
    "    fill_mode = 'nearest'\n",
    ")"
   ]
  },
  {
   "cell_type": "code",
   "execution_count": 10,
   "id": "65688a97",
   "metadata": {},
   "outputs": [],
   "source": [
    "val_gen = ImageDataGenerator(\n",
    "    rescale = 1./255\n",
    ")"
   ]
  },
  {
   "cell_type": "code",
   "execution_count": 11,
   "id": "6362f7df",
   "metadata": {},
   "outputs": [
    {
     "name": "stdout",
     "output_type": "stream",
     "text": [
      "Found 2000 images belonging to 2 classes.\n"
     ]
    }
   ],
   "source": [
    "train_data_generator = train_gen.flow_from_directory(\n",
    "    train_dir,\n",
    "    target_size = (150, 150),\n",
    "    batch_size = 20,\n",
    "    class_mode = 'binary'\n",
    ")"
   ]
  },
  {
   "cell_type": "code",
   "execution_count": 12,
   "id": "fa81295c",
   "metadata": {},
   "outputs": [
    {
     "name": "stdout",
     "output_type": "stream",
     "text": [
      "Found 1000 images belonging to 2 classes.\n"
     ]
    }
   ],
   "source": [
    "val_data_generator = val_gen.flow_from_directory(\n",
    "    val_dir,\n",
    "    target_size = (150, 150),\n",
    "    batch_size = 20,\n",
    "    class_mode = 'binary'\n",
    ")"
   ]
  },
  {
   "cell_type": "code",
   "execution_count": 13,
   "id": "919663a3",
   "metadata": {},
   "outputs": [
    {
     "name": "stdout",
     "output_type": "stream",
     "text": [
      "Epoch 1/100\n",
      "100/100 [==============================] - 43s 421ms/step - loss: 0.6931 - acc: 0.5115 - val_loss: 0.6864 - val_acc: 0.5330\n",
      "Epoch 2/100\n",
      "100/100 [==============================] - 45s 452ms/step - loss: 0.6820 - acc: 0.5570 - val_loss: 0.6831 - val_acc: 0.5540\n",
      "Epoch 3/100\n",
      "100/100 [==============================] - 45s 447ms/step - loss: 0.6693 - acc: 0.5840 - val_loss: 0.6661 - val_acc: 0.5880\n",
      "Epoch 4/100\n",
      "100/100 [==============================] - 44s 443ms/step - loss: 0.6603 - acc: 0.6115 - val_loss: 0.6692 - val_acc: 0.6040\n",
      "Epoch 5/100\n",
      "100/100 [==============================] - 45s 445ms/step - loss: 0.6462 - acc: 0.6165 - val_loss: 0.6535 - val_acc: 0.6250\n",
      "Epoch 6/100\n",
      "100/100 [==============================] - 45s 446ms/step - loss: 0.6341 - acc: 0.6270 - val_loss: 0.7614 - val_acc: 0.5540\n",
      "Epoch 7/100\n",
      "100/100 [==============================] - 45s 446ms/step - loss: 0.6184 - acc: 0.6460 - val_loss: 0.6068 - val_acc: 0.6860\n",
      "Epoch 8/100\n",
      "100/100 [==============================] - 45s 448ms/step - loss: 0.5965 - acc: 0.6725 - val_loss: 0.6105 - val_acc: 0.6560\n",
      "Epoch 9/100\n",
      "100/100 [==============================] - 45s 449ms/step - loss: 0.5943 - acc: 0.6845 - val_loss: 0.5782 - val_acc: 0.6890\n",
      "Epoch 10/100\n",
      "100/100 [==============================] - 45s 450ms/step - loss: 0.5971 - acc: 0.6785 - val_loss: 0.6300 - val_acc: 0.6390\n",
      "Epoch 11/100\n",
      "100/100 [==============================] - 47s 469ms/step - loss: 0.5840 - acc: 0.6875 - val_loss: 0.6217 - val_acc: 0.6760\n",
      "Epoch 12/100\n",
      "100/100 [==============================] - 45s 450ms/step - loss: 0.5833 - acc: 0.6975 - val_loss: 0.6364 - val_acc: 0.6850\n",
      "Epoch 13/100\n",
      "100/100 [==============================] - 45s 448ms/step - loss: 0.5717 - acc: 0.7015 - val_loss: 0.6454 - val_acc: 0.6730\n",
      "Epoch 14/100\n",
      "100/100 [==============================] - 46s 458ms/step - loss: 0.5675 - acc: 0.7140 - val_loss: 0.5617 - val_acc: 0.7230\n",
      "Epoch 15/100\n",
      "100/100 [==============================] - 46s 455ms/step - loss: 0.5705 - acc: 0.7005 - val_loss: 0.6297 - val_acc: 0.6640\n",
      "Epoch 16/100\n",
      "100/100 [==============================] - 46s 461ms/step - loss: 0.5644 - acc: 0.7020 - val_loss: 0.5680 - val_acc: 0.7250\n",
      "Epoch 17/100\n",
      "100/100 [==============================] - 46s 457ms/step - loss: 0.5613 - acc: 0.7180 - val_loss: 0.5778 - val_acc: 0.7110\n",
      "Epoch 18/100\n",
      "100/100 [==============================] - 46s 457ms/step - loss: 0.5645 - acc: 0.7070 - val_loss: 0.5587 - val_acc: 0.7280\n",
      "Epoch 19/100\n",
      "100/100 [==============================] - 46s 461ms/step - loss: 0.5513 - acc: 0.7150 - val_loss: 0.5667 - val_acc: 0.7110\n",
      "Epoch 20/100\n",
      "100/100 [==============================] - 46s 460ms/step - loss: 0.5442 - acc: 0.7195 - val_loss: 0.5689 - val_acc: 0.7180\n",
      "Epoch 21/100\n",
      "100/100 [==============================] - 46s 458ms/step - loss: 0.5499 - acc: 0.7090 - val_loss: 0.5473 - val_acc: 0.7250\n",
      "Epoch 22/100\n",
      "100/100 [==============================] - 46s 456ms/step - loss: 0.5408 - acc: 0.7295 - val_loss: 0.5400 - val_acc: 0.7210\n",
      "Epoch 23/100\n",
      "100/100 [==============================] - 46s 457ms/step - loss: 0.5320 - acc: 0.7375 - val_loss: 0.5517 - val_acc: 0.7240\n",
      "Epoch 24/100\n",
      "100/100 [==============================] - 46s 460ms/step - loss: 0.5250 - acc: 0.7375 - val_loss: 0.5413 - val_acc: 0.7300\n",
      "Epoch 25/100\n",
      "100/100 [==============================] - 46s 459ms/step - loss: 0.5301 - acc: 0.7340 - val_loss: 0.5451 - val_acc: 0.7300\n",
      "Epoch 26/100\n",
      "100/100 [==============================] - 46s 460ms/step - loss: 0.5141 - acc: 0.7425 - val_loss: 0.5215 - val_acc: 0.7370\n",
      "Epoch 27/100\n",
      "100/100 [==============================] - 46s 460ms/step - loss: 0.5061 - acc: 0.7405 - val_loss: 0.5736 - val_acc: 0.7260\n",
      "Epoch 28/100\n",
      "100/100 [==============================] - 46s 460ms/step - loss: 0.5230 - acc: 0.7485 - val_loss: 0.5724 - val_acc: 0.7050\n",
      "Epoch 29/100\n",
      "100/100 [==============================] - 46s 461ms/step - loss: 0.5038 - acc: 0.7460 - val_loss: 0.5340 - val_acc: 0.7370\n",
      "Epoch 30/100\n",
      "100/100 [==============================] - 46s 462ms/step - loss: 0.5081 - acc: 0.7525 - val_loss: 0.5176 - val_acc: 0.7460\n",
      "Epoch 31/100\n",
      "100/100 [==============================] - 48s 477ms/step - loss: 0.5146 - acc: 0.7505 - val_loss: 0.5111 - val_acc: 0.7500\n",
      "Epoch 32/100\n",
      "100/100 [==============================] - 47s 465ms/step - loss: 0.4981 - acc: 0.7585 - val_loss: 0.5201 - val_acc: 0.7340\n",
      "Epoch 33/100\n",
      "100/100 [==============================] - 46s 463ms/step - loss: 0.5033 - acc: 0.7475 - val_loss: 0.5224 - val_acc: 0.7540\n",
      "Epoch 34/100\n",
      "100/100 [==============================] - 46s 463ms/step - loss: 0.4846 - acc: 0.7685 - val_loss: 0.5125 - val_acc: 0.7570\n",
      "Epoch 35/100\n",
      "100/100 [==============================] - 46s 464ms/step - loss: 0.4850 - acc: 0.7675 - val_loss: 0.6074 - val_acc: 0.7230\n",
      "Epoch 36/100\n",
      "100/100 [==============================] - 46s 461ms/step - loss: 0.4899 - acc: 0.7660 - val_loss: 0.5038 - val_acc: 0.7600\n",
      "Epoch 37/100\n",
      "100/100 [==============================] - 46s 463ms/step - loss: 0.4870 - acc: 0.7570 - val_loss: 0.5466 - val_acc: 0.7470\n",
      "Epoch 38/100\n",
      "100/100 [==============================] - 46s 463ms/step - loss: 0.4780 - acc: 0.7675 - val_loss: 0.5262 - val_acc: 0.7500\n",
      "Epoch 39/100\n",
      "100/100 [==============================] - 46s 461ms/step - loss: 0.4954 - acc: 0.7635 - val_loss: 0.6459 - val_acc: 0.7070\n",
      "Epoch 40/100\n",
      "100/100 [==============================] - 46s 464ms/step - loss: 0.4812 - acc: 0.7700 - val_loss: 0.4991 - val_acc: 0.7720\n",
      "Epoch 41/100\n",
      "100/100 [==============================] - 46s 463ms/step - loss: 0.4717 - acc: 0.7720 - val_loss: 0.4839 - val_acc: 0.7630\n",
      "Epoch 42/100\n",
      "100/100 [==============================] - 46s 463ms/step - loss: 0.4780 - acc: 0.7705 - val_loss: 0.5093 - val_acc: 0.7630\n",
      "Epoch 43/100\n",
      "100/100 [==============================] - 46s 462ms/step - loss: 0.4686 - acc: 0.7750 - val_loss: 0.4889 - val_acc: 0.7730\n",
      "Epoch 44/100\n",
      "100/100 [==============================] - 46s 463ms/step - loss: 0.4826 - acc: 0.7670 - val_loss: 0.4842 - val_acc: 0.7730\n",
      "Epoch 45/100\n",
      "100/100 [==============================] - 46s 463ms/step - loss: 0.4688 - acc: 0.7710 - val_loss: 0.4946 - val_acc: 0.7670\n",
      "Epoch 46/100\n",
      "100/100 [==============================] - 46s 464ms/step - loss: 0.4705 - acc: 0.7825 - val_loss: 0.4758 - val_acc: 0.7640\n",
      "Epoch 47/100\n",
      "100/100 [==============================] - 47s 467ms/step - loss: 0.4659 - acc: 0.7765 - val_loss: 0.5613 - val_acc: 0.7490\n",
      "Epoch 48/100\n",
      "100/100 [==============================] - 46s 461ms/step - loss: 0.4698 - acc: 0.7705 - val_loss: 0.5033 - val_acc: 0.7700\n",
      "Epoch 49/100\n",
      "100/100 [==============================] - 46s 461ms/step - loss: 0.4553 - acc: 0.7955 - val_loss: 0.5536 - val_acc: 0.7360\n",
      "Epoch 50/100\n",
      "100/100 [==============================] - 48s 479ms/step - loss: 0.4756 - acc: 0.7720 - val_loss: 0.4772 - val_acc: 0.7690\n",
      "Epoch 51/100\n",
      "100/100 [==============================] - 47s 469ms/step - loss: 0.4530 - acc: 0.7855 - val_loss: 0.5097 - val_acc: 0.7710\n",
      "Epoch 52/100\n",
      "100/100 [==============================] - 48s 476ms/step - loss: 0.4529 - acc: 0.7865 - val_loss: 0.4770 - val_acc: 0.7770\n",
      "Epoch 53/100\n",
      "100/100 [==============================] - 46s 464ms/step - loss: 0.4429 - acc: 0.7960 - val_loss: 0.4974 - val_acc: 0.7730\n",
      "Epoch 54/100\n",
      "100/100 [==============================] - 46s 464ms/step - loss: 0.4657 - acc: 0.7755 - val_loss: 0.5265 - val_acc: 0.7750\n",
      "Epoch 55/100\n",
      "100/100 [==============================] - 46s 461ms/step - loss: 0.4489 - acc: 0.7870 - val_loss: 0.4657 - val_acc: 0.7880\n",
      "Epoch 56/100\n",
      "100/100 [==============================] - 46s 462ms/step - loss: 0.4494 - acc: 0.7840 - val_loss: 0.5035 - val_acc: 0.7650\n",
      "Epoch 57/100\n",
      "100/100 [==============================] - 46s 461ms/step - loss: 0.4525 - acc: 0.7805 - val_loss: 0.4811 - val_acc: 0.7850\n",
      "Epoch 58/100\n",
      "100/100 [==============================] - 46s 463ms/step - loss: 0.4451 - acc: 0.7845 - val_loss: 0.4707 - val_acc: 0.7880\n",
      "Epoch 59/100\n",
      "100/100 [==============================] - 46s 463ms/step - loss: 0.4381 - acc: 0.7860 - val_loss: 0.4451 - val_acc: 0.7930\n",
      "Epoch 60/100\n",
      "100/100 [==============================] - 46s 462ms/step - loss: 0.4526 - acc: 0.7850 - val_loss: 0.4852 - val_acc: 0.7820\n"
     ]
    },
    {
     "name": "stdout",
     "output_type": "stream",
     "text": [
      "Epoch 61/100\n",
      "100/100 [==============================] - 46s 461ms/step - loss: 0.4461 - acc: 0.7985 - val_loss: 0.5238 - val_acc: 0.7670\n",
      "Epoch 62/100\n",
      "100/100 [==============================] - 46s 462ms/step - loss: 0.4377 - acc: 0.7880 - val_loss: 0.5254 - val_acc: 0.7700\n",
      "Epoch 63/100\n",
      "100/100 [==============================] - 46s 463ms/step - loss: 0.4263 - acc: 0.7995 - val_loss: 0.5059 - val_acc: 0.7790\n",
      "Epoch 64/100\n",
      "100/100 [==============================] - 46s 460ms/step - loss: 0.4265 - acc: 0.8020 - val_loss: 0.4743 - val_acc: 0.7970\n",
      "Epoch 65/100\n",
      "100/100 [==============================] - 46s 460ms/step - loss: 0.4280 - acc: 0.8050 - val_loss: 0.4569 - val_acc: 0.7930\n",
      "Epoch 66/100\n",
      "100/100 [==============================] - 46s 462ms/step - loss: 0.4255 - acc: 0.8135 - val_loss: 0.4660 - val_acc: 0.7840\n",
      "Epoch 67/100\n",
      "100/100 [==============================] - 46s 461ms/step - loss: 0.4314 - acc: 0.8005 - val_loss: 0.5056 - val_acc: 0.7640\n",
      "Epoch 68/100\n",
      "100/100 [==============================] - 46s 461ms/step - loss: 0.4282 - acc: 0.8100 - val_loss: 0.4662 - val_acc: 0.7910\n",
      "Epoch 69/100\n",
      "100/100 [==============================] - 47s 469ms/step - loss: 0.4138 - acc: 0.8025 - val_loss: 0.5112 - val_acc: 0.7650\n",
      "Epoch 70/100\n",
      "100/100 [==============================] - 47s 470ms/step - loss: 0.4208 - acc: 0.8030 - val_loss: 0.5082 - val_acc: 0.7820\n",
      "Epoch 71/100\n",
      "100/100 [==============================] - 46s 462ms/step - loss: 0.4309 - acc: 0.8010 - val_loss: 0.5107 - val_acc: 0.7870\n",
      "Epoch 72/100\n",
      "100/100 [==============================] - 46s 462ms/step - loss: 0.4056 - acc: 0.8105 - val_loss: 0.4798 - val_acc: 0.7940\n",
      "Epoch 73/100\n",
      "100/100 [==============================] - 46s 461ms/step - loss: 0.4200 - acc: 0.8060 - val_loss: 0.5531 - val_acc: 0.7690\n",
      "Epoch 74/100\n",
      "100/100 [==============================] - 46s 460ms/step - loss: 0.4335 - acc: 0.8005 - val_loss: 0.4624 - val_acc: 0.7900\n",
      "Epoch 75/100\n",
      "100/100 [==============================] - 46s 461ms/step - loss: 0.3949 - acc: 0.8115 - val_loss: 0.5539 - val_acc: 0.7660\n",
      "Epoch 76/100\n",
      "100/100 [==============================] - 46s 461ms/step - loss: 0.4030 - acc: 0.8080 - val_loss: 0.5123 - val_acc: 0.8010\n",
      "Epoch 77/100\n",
      "100/100 [==============================] - 46s 461ms/step - loss: 0.4160 - acc: 0.8140 - val_loss: 0.4570 - val_acc: 0.7930\n",
      "Epoch 78/100\n",
      "100/100 [==============================] - 46s 460ms/step - loss: 0.4169 - acc: 0.8060 - val_loss: 0.4558 - val_acc: 0.7940\n",
      "Epoch 79/100\n",
      "100/100 [==============================] - 46s 459ms/step - loss: 0.4147 - acc: 0.8170 - val_loss: 0.4873 - val_acc: 0.7940\n",
      "Epoch 80/100\n",
      "100/100 [==============================] - 46s 460ms/step - loss: 0.4091 - acc: 0.8160 - val_loss: 0.4961 - val_acc: 0.7960\n",
      "Epoch 81/100\n",
      "100/100 [==============================] - 46s 460ms/step - loss: 0.4137 - acc: 0.8115 - val_loss: 0.5171 - val_acc: 0.7600\n",
      "Epoch 82/100\n",
      "100/100 [==============================] - 46s 460ms/step - loss: 0.4011 - acc: 0.8245 - val_loss: 0.4734 - val_acc: 0.7850\n",
      "Epoch 83/100\n",
      "100/100 [==============================] - 46s 460ms/step - loss: 0.4167 - acc: 0.8100 - val_loss: 0.4743 - val_acc: 0.7970\n",
      "Epoch 84/100\n",
      "100/100 [==============================] - 597s 6s/step - loss: 0.3974 - acc: 0.8220 - val_loss: 0.4301 - val_acc: 0.8000\n",
      "Epoch 85/100\n",
      "100/100 [==============================] - 41s 409ms/step - loss: 0.4007 - acc: 0.8135 - val_loss: 0.4878 - val_acc: 0.8060\n",
      "Epoch 86/100\n",
      "100/100 [==============================] - 44s 438ms/step - loss: 0.3996 - acc: 0.8145 - val_loss: 0.4888 - val_acc: 0.7970\n",
      "Epoch 87/100\n",
      "100/100 [==============================] - 44s 442ms/step - loss: 0.3945 - acc: 0.8210 - val_loss: 0.4449 - val_acc: 0.8020\n",
      "Epoch 88/100\n",
      "100/100 [==============================] - 45s 454ms/step - loss: 0.3787 - acc: 0.8405 - val_loss: 0.4797 - val_acc: 0.7910\n",
      "Epoch 89/100\n",
      "100/100 [==============================] - 45s 448ms/step - loss: 0.3941 - acc: 0.8205 - val_loss: 0.5022 - val_acc: 0.8000\n",
      "Epoch 90/100\n",
      "100/100 [==============================] - 45s 445ms/step - loss: 0.3928 - acc: 0.8295 - val_loss: 0.4380 - val_acc: 0.8060\n",
      "Epoch 91/100\n",
      "100/100 [==============================] - 45s 448ms/step - loss: 0.3824 - acc: 0.8205 - val_loss: 0.4228 - val_acc: 0.8170\n",
      "Epoch 92/100\n",
      "100/100 [==============================] - 45s 448ms/step - loss: 0.3834 - acc: 0.8235 - val_loss: 0.4378 - val_acc: 0.8010\n",
      "Epoch 93/100\n",
      "100/100 [==============================] - 45s 450ms/step - loss: 0.3796 - acc: 0.8360 - val_loss: 0.5193 - val_acc: 0.7720\n",
      "Epoch 94/100\n",
      "100/100 [==============================] - 45s 451ms/step - loss: 0.3805 - acc: 0.8265 - val_loss: 0.5766 - val_acc: 0.7850\n",
      "Epoch 95/100\n",
      "100/100 [==============================] - 45s 454ms/step - loss: 0.3857 - acc: 0.8270 - val_loss: 0.4166 - val_acc: 0.8240\n",
      "Epoch 96/100\n",
      "100/100 [==============================] - 45s 454ms/step - loss: 0.3659 - acc: 0.8325 - val_loss: 0.4818 - val_acc: 0.8010\n",
      "Epoch 97/100\n",
      "100/100 [==============================] - 45s 453ms/step - loss: 0.3750 - acc: 0.8395 - val_loss: 0.4548 - val_acc: 0.8020\n",
      "Epoch 98/100\n",
      "100/100 [==============================] - 46s 455ms/step - loss: 0.3793 - acc: 0.8225 - val_loss: 0.4474 - val_acc: 0.8110\n",
      "Epoch 99/100\n",
      "100/100 [==============================] - 46s 455ms/step - loss: 0.3836 - acc: 0.8290 - val_loss: 0.4561 - val_acc: 0.8040\n",
      "Epoch 100/100\n",
      "100/100 [==============================] - 45s 454ms/step - loss: 0.3782 - acc: 0.8245 - val_loss: 0.4342 - val_acc: 0.8110\n"
     ]
    }
   ],
   "source": [
    "history = model.fit(\n",
    "    train_data_generator,\n",
    "    steps_per_epoch = 100,\n",
    "    epochs = 100,\n",
    "    validation_data = val_data_generator,\n",
    "    validation_steps = 50\n",
    "    \n",
    ")"
   ]
  },
  {
   "cell_type": "code",
   "execution_count": 14,
   "id": "73bf2918",
   "metadata": {},
   "outputs": [],
   "source": [
    "hist = history.history"
   ]
  },
  {
   "cell_type": "code",
   "execution_count": 15,
   "id": "27db3886",
   "metadata": {},
   "outputs": [],
   "source": [
    "import matplotlib.pyplot as plt"
   ]
  },
  {
   "cell_type": "code",
   "execution_count": 16,
   "id": "87072468",
   "metadata": {},
   "outputs": [
    {
     "data": {
      "image/png": "[encoded data removed]",
      "text/plain": [
       "<Figure size 432x288 with 1 Axes>"
      ]
     },
     "metadata": {
      "needs_background": "light"
     },
     "output_type": "display_data"
    }
   ],
   "source": [
    "plt.scatter(range(len(hist['loss'])), hist['loss'], label = 'Training Loss')\n",
    "plt.plot(range(len(hist['val_loss'])), hist['val_loss'], label = 'Validation Loss')\n",
    "plt.legend()\n",
    "plt.show()"
   ]
  },
  {
   "cell_type": "code",
   "execution_count": 17,
   "id": "2b31c95e",
   "metadata": {},
   "outputs": [
    {
     "data": {
      "image/png": "[encoded data removed]",
      "text/plain": [
       "<Figure size 432x288 with 1 Axes>"
      ]
     },
     "metadata": {
      "needs_background": "light"
     },
     "output_type": "display_data"
    }
   ],
   "source": [
    "plt.scatter(range(len(hist['acc'])), hist['acc'], label = 'Training Accuracy')\n",
    "plt.plot(range(len(hist['val_acc'])), hist['val_acc'], label = 'Validation Accuracy')\n",
    "plt.legend()\n",
    "plt.show()"
   ]
  },
  {
   "cell_type": "code",
   "execution_count": null,
   "id": "e309f211",
   "metadata": {},
   "outputs": [],
   "source": []
  }
 ],
 "metadata": {
  "kernelspec": {
   "display_name": "Python 3 (ipykernel)",
   "language": "python",
   "name": "python3"
  },
  "language_info": {
   "codemirror_mode": {
    "name": "ipython",
    "version": 3
   },
   "file_extension": ".py",
   "mimetype": "text/x-python",
   "name": "python",
   "nbconvert_exporter": "python",
   "pygments_lexer": "ipython3",
   "version": "3.8.10"
  }
 },
 "nbformat": 4,
 "nbformat_minor": 5
}
