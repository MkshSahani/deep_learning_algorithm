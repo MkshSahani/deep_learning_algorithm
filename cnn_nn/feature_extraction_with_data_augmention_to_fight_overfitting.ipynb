{
 "cells": [
  {
   "cell_type": "code",
   "execution_count": 3,
   "id": "60925452",
   "metadata": {},
   "outputs": [],
   "source": [
    "dataset_dir = '/home/mukesh/ml_dl_ds/deep_learning_algorithm/dataset'"
   ]
  },
  {
   "cell_type": "code",
   "execution_count": 6,
   "id": "fe3fade6",
   "metadata": {},
   "outputs": [],
   "source": [
    "from keras import layers, models, optimizers\n",
    "from keras.applications import VGG16\n",
    "from keras.preprocessing.image import ImageDataGenerator"
   ]
  },
  {
   "cell_type": "code",
   "execution_count": 7,
   "id": "dba2db0e",
   "metadata": {},
   "outputs": [],
   "source": [
    "import os\n",
    "import numpy as np"
   ]
  },
  {
   "cell_type": "code",
   "execution_count": 8,
   "id": "b749bf1b",
   "metadata": {},
   "outputs": [],
   "source": [
    "train_dir = os.path.join(dataset_dir, 'train')\n",
    "val_dir = os.path.join(dataset_dir, 'val')\n",
    "test_dir = os.path.join(dataset_dir, 'test')"
   ]
  },
  {
   "cell_type": "code",
   "execution_count": 9,
   "id": "fe4b4d0e",
   "metadata": {},
   "outputs": [],
   "source": [
    "train_datagen = ImageDataGenerator(\n",
    "    rescale = 1./255,\n",
    "    rotation_range = 40,\n",
    "    width_shift_range = 0.2,\n",
    "    height_shift_range = 0.2,\n",
    "    shear_range = 0.2,\n",
    "    zoom_range = 0.2,\n",
    "    fill_mode = 'nearest'\n",
    ")"
   ]
  },
  {
   "cell_type": "code",
   "execution_count": 10,
   "id": "20174e6d",
   "metadata": {},
   "outputs": [],
   "source": [
    "val_datagen = ImageDataGenerator(\n",
    "    rescale = 1./255\n",
    ")"
   ]
  },
  {
   "cell_type": "code",
   "execution_count": 13,
   "id": "86fe0a54",
   "metadata": {},
   "outputs": [
    {
     "name": "stdout",
     "output_type": "stream",
     "text": [
      "Found 2000 images belonging to 2 classes.\n"
     ]
    }
   ],
   "source": [
    "train_data_generator = train_datagen.flow_from_directory(\n",
    "    train_dir,\n",
    "    target_size = (150, 150),\n",
    "    class_mode = 'binary',\n",
    "    batch_size = 20\n",
    ")"
   ]
  },
  {
   "cell_type": "code",
   "execution_count": 14,
   "id": "32e8ed53",
   "metadata": {},
   "outputs": [
    {
     "name": "stdout",
     "output_type": "stream",
     "text": [
      "Found 1000 images belonging to 2 classes.\n"
     ]
    }
   ],
   "source": [
    "validation_data_generatot = val_datagen.flow_from_directory(\n",
    "    val_dir,\n",
    "    target_size = (150, 150),\n",
    "    class_mode = 'binary',\n",
    "    batch_size = 20\n",
    ")"
   ]
  },
  {
   "cell_type": "code",
   "execution_count": 16,
   "id": "35323fb6",
   "metadata": {},
   "outputs": [],
   "source": [
    "conv_base = VGG16(\n",
    "    weights = 'imagenet',\n",
    "    input_shape = (150, 150, 3),\n",
    "    include_top = False\n",
    ")"
   ]
  },
  {
   "cell_type": "code",
   "execution_count": 18,
   "id": "5318ccea",
   "metadata": {},
   "outputs": [
    {
     "name": "stdout",
     "output_type": "stream",
     "text": [
      "Model: \"vgg16\"\n",
      "_________________________________________________________________\n",
      " Layer (type)                Output Shape              Param #   \n",
      "=================================================================\n",
      " input_2 (InputLayer)        [(None, 150, 150, 3)]     0         \n",
      "                                                                 \n",
      " block1_conv1 (Conv2D)       (None, 150, 150, 64)      1792      \n",
      "                                                                 \n",
      " block1_conv2 (Conv2D)       (None, 150, 150, 64)      36928     \n",
      "                                                                 \n",
      " block1_pool (MaxPooling2D)  (None, 75, 75, 64)        0         \n",
      "                                                                 \n",
      " block2_conv1 (Conv2D)       (None, 75, 75, 128)       73856     \n",
      "                                                                 \n",
      " block2_conv2 (Conv2D)       (None, 75, 75, 128)       147584    \n",
      "                                                                 \n",
      " block2_pool (MaxPooling2D)  (None, 37, 37, 128)       0         \n",
      "                                                                 \n",
      " block3_conv1 (Conv2D)       (None, 37, 37, 256)       295168    \n",
      "                                                                 \n",
      " block3_conv2 (Conv2D)       (None, 37, 37, 256)       590080    \n",
      "                                                                 \n",
      " block3_conv3 (Conv2D)       (None, 37, 37, 256)       590080    \n",
      "                                                                 \n",
      " block3_pool (MaxPooling2D)  (None, 18, 18, 256)       0         \n",
      "                                                                 \n",
      " block4_conv1 (Conv2D)       (None, 18, 18, 512)       1180160   \n",
      "                                                                 \n",
      " block4_conv2 (Conv2D)       (None, 18, 18, 512)       2359808   \n",
      "                                                                 \n",
      " block4_conv3 (Conv2D)       (None, 18, 18, 512)       2359808   \n",
      "                                                                 \n",
      " block4_pool (MaxPooling2D)  (None, 9, 9, 512)         0         \n",
      "                                                                 \n",
      " block5_conv1 (Conv2D)       (None, 9, 9, 512)         2359808   \n",
      "                                                                 \n",
      " block5_conv2 (Conv2D)       (None, 9, 9, 512)         2359808   \n",
      "                                                                 \n",
      " block5_conv3 (Conv2D)       (None, 9, 9, 512)         2359808   \n",
      "                                                                 \n",
      " block5_pool (MaxPooling2D)  (None, 4, 4, 512)         0         \n",
      "                                                                 \n",
      "=================================================================\n",
      "Total params: 14,714,688\n",
      "Trainable params: 14,714,688\n",
      "Non-trainable params: 0\n",
      "_________________________________________________________________\n"
     ]
    }
   ],
   "source": [
    "conv_base.summary()"
   ]
  },
  {
   "cell_type": "code",
   "execution_count": 19,
   "id": "fb68ba7a",
   "metadata": {},
   "outputs": [],
   "source": [
    "conv_base.trainable = False"
   ]
  },
  {
   "cell_type": "code",
   "execution_count": 20,
   "id": "9f2f2441",
   "metadata": {},
   "outputs": [
    {
     "name": "stdout",
     "output_type": "stream",
     "text": [
      "Model: \"vgg16\"\n",
      "_________________________________________________________________\n",
      " Layer (type)                Output Shape              Param #   \n",
      "=================================================================\n",
      " input_2 (InputLayer)        [(None, 150, 150, 3)]     0         \n",
      "                                                                 \n",
      " block1_conv1 (Conv2D)       (None, 150, 150, 64)      1792      \n",
      "                                                                 \n",
      " block1_conv2 (Conv2D)       (None, 150, 150, 64)      36928     \n",
      "                                                                 \n",
      " block1_pool (MaxPooling2D)  (None, 75, 75, 64)        0         \n",
      "                                                                 \n",
      " block2_conv1 (Conv2D)       (None, 75, 75, 128)       73856     \n",
      "                                                                 \n",
      " block2_conv2 (Conv2D)       (None, 75, 75, 128)       147584    \n",
      "                                                                 \n",
      " block2_pool (MaxPooling2D)  (None, 37, 37, 128)       0         \n",
      "                                                                 \n",
      " block3_conv1 (Conv2D)       (None, 37, 37, 256)       295168    \n",
      "                                                                 \n",
      " block3_conv2 (Conv2D)       (None, 37, 37, 256)       590080    \n",
      "                                                                 \n",
      " block3_conv3 (Conv2D)       (None, 37, 37, 256)       590080    \n",
      "                                                                 \n",
      " block3_pool (MaxPooling2D)  (None, 18, 18, 256)       0         \n",
      "                                                                 \n",
      " block4_conv1 (Conv2D)       (None, 18, 18, 512)       1180160   \n",
      "                                                                 \n",
      " block4_conv2 (Conv2D)       (None, 18, 18, 512)       2359808   \n",
      "                                                                 \n",
      " block4_conv3 (Conv2D)       (None, 18, 18, 512)       2359808   \n",
      "                                                                 \n",
      " block4_pool (MaxPooling2D)  (None, 9, 9, 512)         0         \n",
      "                                                                 \n",
      " block5_conv1 (Conv2D)       (None, 9, 9, 512)         2359808   \n",
      "                                                                 \n",
      " block5_conv2 (Conv2D)       (None, 9, 9, 512)         2359808   \n",
      "                                                                 \n",
      " block5_conv3 (Conv2D)       (None, 9, 9, 512)         2359808   \n",
      "                                                                 \n",
      " block5_pool (MaxPooling2D)  (None, 4, 4, 512)         0         \n",
      "                                                                 \n",
      "=================================================================\n",
      "Total params: 14,714,688\n",
      "Trainable params: 0\n",
      "Non-trainable params: 14,714,688\n",
      "_________________________________________________________________\n"
     ]
    }
   ],
   "source": [
    "conv_base.summary()"
   ]
  },
  {
   "cell_type": "code",
   "execution_count": 21,
   "id": "071cc8f9",
   "metadata": {},
   "outputs": [
    {
     "name": "stdout",
     "output_type": "stream",
     "text": [
      "Model: \"sequential\"\n",
      "_________________________________________________________________\n",
      " Layer (type)                Output Shape              Param #   \n",
      "=================================================================\n",
      " vgg16 (Functional)          (None, 4, 4, 512)         14714688  \n",
      "                                                                 \n",
      " flatten (Flatten)           (None, 8192)              0         \n",
      "                                                                 \n",
      " dense (Dense)               (None, 256)               2097408   \n",
      "                                                                 \n",
      " dense_1 (Dense)             (None, 1)                 257       \n",
      "                                                                 \n",
      "=================================================================\n",
      "Total params: 16,812,353\n",
      "Trainable params: 2,097,665\n",
      "Non-trainable params: 14,714,688\n",
      "_________________________________________________________________\n"
     ]
    }
   ],
   "source": [
    "model = models.Sequential()\n",
    "model.add(conv_base)\n",
    "model.add(layers.Flatten())\n",
    "model.add(layers.Dense(256, activation = 'relu'))\n",
    "model.add(layers.Dense(1, activation = 'sigmoid'))\n",
    "model.summary()"
   ]
  },
  {
   "cell_type": "code",
   "execution_count": 22,
   "id": "a57d8546",
   "metadata": {},
   "outputs": [],
   "source": [
    "model.compile(\n",
    "    optimizer = optimizers.RMSprop(learning_rate = 1e-4),\n",
    "    loss = 'binary_crossentropy',\n",
    "    metrics = ['acc']\n",
    ")"
   ]
  },
  {
   "cell_type": "code",
   "execution_count": 23,
   "id": "dffe87bc",
   "metadata": {},
   "outputs": [
    {
     "name": "stdout",
     "output_type": "stream",
     "text": [
      "Epoch 1/30\n",
      "100/100 [==============================] - 213s 2s/step - loss: 0.5189 - acc: 0.7415 - val_loss: 0.4962 - val_acc: 0.7440\n",
      "Epoch 2/30\n",
      "100/100 [==============================] - 219s 2s/step - loss: 0.4007 - acc: 0.8160 - val_loss: 0.2837 - val_acc: 0.8780\n",
      "Epoch 3/30\n",
      "100/100 [==============================] - 220s 2s/step - loss: 0.3910 - acc: 0.8230 - val_loss: 0.2626 - val_acc: 0.8980\n",
      "Epoch 4/30\n",
      "100/100 [==============================] - 221s 2s/step - loss: 0.3564 - acc: 0.8340 - val_loss: 0.3041 - val_acc: 0.8690\n",
      "Epoch 5/30\n",
      "100/100 [==============================] - 225s 2s/step - loss: 0.3473 - acc: 0.8440 - val_loss: 0.2517 - val_acc: 0.8990\n",
      "Epoch 6/30\n",
      "100/100 [==============================] - 225s 2s/step - loss: 0.3330 - acc: 0.8435 - val_loss: 0.2646 - val_acc: 0.8920\n",
      "Epoch 7/30\n",
      "100/100 [==============================] - 226s 2s/step - loss: 0.3139 - acc: 0.8580 - val_loss: 0.2713 - val_acc: 0.8820\n",
      "Epoch 8/30\n",
      "100/100 [==============================] - 245s 2s/step - loss: 0.3091 - acc: 0.8670 - val_loss: 0.2899 - val_acc: 0.8750\n",
      "Epoch 9/30\n",
      "100/100 [==============================] - 235s 2s/step - loss: 0.3301 - acc: 0.8555 - val_loss: 0.2594 - val_acc: 0.8930\n",
      "Epoch 10/30\n",
      "100/100 [==============================] - 236s 2s/step - loss: 0.2848 - acc: 0.8770 - val_loss: 0.2372 - val_acc: 0.9050\n",
      "Epoch 11/30\n",
      "100/100 [==============================] - 228s 2s/step - loss: 0.2834 - acc: 0.8750 - val_loss: 0.2436 - val_acc: 0.9080\n",
      "Epoch 12/30\n",
      "100/100 [==============================] - 226s 2s/step - loss: 0.2890 - acc: 0.8745 - val_loss: 0.2475 - val_acc: 0.9000\n",
      "Epoch 13/30\n",
      "100/100 [==============================] - 234s 2s/step - loss: 0.2756 - acc: 0.8810 - val_loss: 0.2390 - val_acc: 0.9060\n",
      "Epoch 14/30\n",
      "100/100 [==============================] - 240s 2s/step - loss: 0.2885 - acc: 0.8695 - val_loss: 0.2445 - val_acc: 0.9080\n",
      "Epoch 15/30\n",
      "100/100 [==============================] - 228s 2s/step - loss: 0.2746 - acc: 0.8770 - val_loss: 0.3855 - val_acc: 0.8410\n",
      "Epoch 16/30\n",
      "100/100 [==============================] - 226s 2s/step - loss: 0.2855 - acc: 0.8745 - val_loss: 0.2392 - val_acc: 0.9060\n",
      "Epoch 17/30\n",
      "100/100 [==============================] - 228s 2s/step - loss: 0.2764 - acc: 0.8815 - val_loss: 0.2444 - val_acc: 0.9050\n",
      "Epoch 18/30\n",
      "100/100 [==============================] - 225s 2s/step - loss: 0.2624 - acc: 0.8890 - val_loss: 0.2653 - val_acc: 0.8900\n",
      "Epoch 19/30\n",
      "100/100 [==============================] - 226s 2s/step - loss: 0.2545 - acc: 0.8930 - val_loss: 0.2461 - val_acc: 0.9040\n",
      "Epoch 20/30\n",
      "100/100 [==============================] - 225s 2s/step - loss: 0.2850 - acc: 0.8795 - val_loss: 0.2666 - val_acc: 0.8870\n",
      "Epoch 21/30\n",
      "100/100 [==============================] - 227s 2s/step - loss: 0.2754 - acc: 0.8790 - val_loss: 0.2872 - val_acc: 0.8840\n",
      "Epoch 22/30\n",
      "100/100 [==============================] - 225s 2s/step - loss: 0.2515 - acc: 0.8915 - val_loss: 0.2421 - val_acc: 0.9030\n",
      "Epoch 23/30\n",
      "100/100 [==============================] - 225s 2s/step - loss: 0.2466 - acc: 0.8970 - val_loss: 0.2763 - val_acc: 0.8910\n",
      "Epoch 24/30\n",
      "100/100 [==============================] - 226s 2s/step - loss: 0.2576 - acc: 0.8835 - val_loss: 0.2485 - val_acc: 0.9030\n",
      "Epoch 25/30\n",
      "100/100 [==============================] - 229s 2s/step - loss: 0.2455 - acc: 0.8980 - val_loss: 0.2807 - val_acc: 0.8890\n",
      "Epoch 26/30\n",
      "100/100 [==============================] - 218s 2s/step - loss: 0.2482 - acc: 0.8945 - val_loss: 0.2564 - val_acc: 0.8990\n",
      "Epoch 27/30\n",
      "100/100 [==============================] - 226s 2s/step - loss: 0.2463 - acc: 0.8910 - val_loss: 0.2540 - val_acc: 0.8950\n",
      "Epoch 28/30\n",
      "100/100 [==============================] - 226s 2s/step - loss: 0.2497 - acc: 0.8935 - val_loss: 0.2630 - val_acc: 0.8910\n",
      "Epoch 29/30\n",
      "100/100 [==============================] - 229s 2s/step - loss: 0.2405 - acc: 0.9030 - val_loss: 0.2521 - val_acc: 0.8970\n",
      "Epoch 30/30\n",
      "100/100 [==============================] - 227s 2s/step - loss: 0.2380 - acc: 0.9040 - val_loss: 0.2505 - val_acc: 0.8960\n"
     ]
    }
   ],
   "source": [
    "hist = model.fit(\n",
    "    train_data_generator,\n",
    "    steps_per_epoch = 100,\n",
    "    epochs = 30,\n",
    "    validation_steps = 50,\n",
    "    validation_data = validation_data_generatot\n",
    ")"
   ]
  },
  {
   "cell_type": "code",
   "execution_count": null,
   "id": "3693c54f",
   "metadata": {},
   "outputs": [],
   "source": []
  }
 ],
 "metadata": {
  "kernelspec": {
   "display_name": "Python 3 (ipykernel)",
   "language": "python",
   "name": "python3"
  },
  "language_info": {
   "codemirror_mode": {
    "name": "ipython",
    "version": 3
   },
   "file_extension": ".py",
   "mimetype": "text/x-python",
   "name": "python",
   "nbconvert_exporter": "python",
   "pygments_lexer": "ipython3",
   "version": "3.8.10"
  }
 },
 "nbformat": 4,
 "nbformat_minor": 5
}
