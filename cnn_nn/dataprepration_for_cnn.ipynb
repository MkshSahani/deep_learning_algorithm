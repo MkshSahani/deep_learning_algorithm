{
 "cells": [
  {
   "cell_type": "code",
   "execution_count": 2,
   "id": "0c4ce6bb",
   "metadata": {},
   "outputs": [],
   "source": [
    "import os\n",
    "import shutil"
   ]
  },
  {
   "cell_type": "code",
   "execution_count": 4,
   "id": "a2203e28",
   "metadata": {},
   "outputs": [],
   "source": [
    "original_data_dir = '/home/mukesh/kaggle_cat_dogs_original'"
   ]
  },
  {
   "cell_type": "code",
   "execution_count": 5,
   "id": "2232a186",
   "metadata": {},
   "outputs": [],
   "source": [
    "data_dir = '/home/mukesh/ml_dl_ds/deep_learning_algorithm/dataset'"
   ]
  },
  {
   "cell_type": "code",
   "execution_count": 6,
   "id": "d8221dcd",
   "metadata": {},
   "outputs": [],
   "source": [
    "train_dir = os.path.join(data_dir, 'train')\n",
    "test_dir = os.path.join(data_dir, 'test')\n",
    "val_dir = os.path.join(data_dir, 'val')"
   ]
  },
  {
   "cell_type": "code",
   "execution_count": 7,
   "id": "f49bb207",
   "metadata": {},
   "outputs": [],
   "source": [
    "if not os.path.isdir(train_dir):\n",
    "    os.mkdir(train_dir)\n",
    "\n",
    "if not os.path.isdir(test_dir):\n",
    "    os.mkdir(test_dir)\n",
    "\n",
    "if not os.path.isdir(val_dir):\n",
    "    os.mkdir(val_dir)"
   ]
  },
  {
   "cell_type": "code",
   "execution_count": 8,
   "id": "60c46e46",
   "metadata": {},
   "outputs": [],
   "source": [
    "cats_train_dir = os.path.join(train_dir, 'cats')\n",
    "dogs_train_dir = os.path.join(train_dir, 'dogs')\n",
    "\n",
    "if not os.path.isdir(cats_train_dir):\n",
    "    os.mkdir(cats_train_dir)\n",
    "\n",
    "if not os.path.isdir(dogs_train_dir):\n",
    "    os.mkdir(dogs_train_dir)\n"
   ]
  },
  {
   "cell_type": "code",
   "execution_count": 9,
   "id": "8fd9fde1",
   "metadata": {},
   "outputs": [],
   "source": [
    "cats_val_dir = os.path.join(val_dir, 'cats')\n",
    "dogs_val_dir = os.path.join(val_dir, 'dogs')\n",
    "\n",
    "if not os.path.isdir(cats_val_dir):\n",
    "    os.mkdir(cats_val_dir)\n",
    "\n",
    "if not os.path.isdir(dogs_val_dir):\n",
    "    os.mkdir(dogs_val_dir)"
   ]
  },
  {
   "cell_type": "code",
   "execution_count": 10,
   "id": "0d875378",
   "metadata": {},
   "outputs": [],
   "source": [
    "cats_test_dir = os.path.join(test_dir, 'cats')\n",
    "dogs_test_dir = os.path.join(test_dir, 'dogs')\n",
    "\n",
    "if not os.path.isdir(cats_test_dir):\n",
    "    os.mkdir(cats_test_dir)\n",
    "\n",
    "if not os.path.isdir(dogs_test_dir):\n",
    "    os.mkdir(dogs_test_dir)"
   ]
  },
  {
   "cell_type": "code",
   "execution_count": 15,
   "id": "f4d39630",
   "metadata": {},
   "outputs": [],
   "source": [
    "### cats training data  \n",
    "fnames = [f'cat.{i}.jpg' for i in range(1000)]\n",
    "for f in fnames:\n",
    "    src_path = os.path.join(original_data_dir, f)\n",
    "    dst_path = os.path.join(cats_train_dir, f)\n",
    "    shutil.copyfile(src_path, dst_path)"
   ]
  },
  {
   "cell_type": "code",
   "execution_count": 16,
   "id": "5f8bee9c",
   "metadata": {},
   "outputs": [],
   "source": [
    "### cats validation data. \n",
    "fnames = [f'cat.{i}.jpg' for i in range(1000, 1500)]\n",
    "for f in fnames:\n",
    "    src_path = os.path.join(original_data_dir, f)\n",
    "    dst_path = os.path.join(cats_val_dir, f)\n",
    "    shutil.copyfile(src_path, dst_path)"
   ]
  },
  {
   "cell_type": "code",
   "execution_count": 19,
   "id": "dc28348d",
   "metadata": {},
   "outputs": [],
   "source": [
    "### cats testing data.\n",
    "fnames = [f'cat.{i}.jpg' for i in range(1500, 2000)]\n",
    "for f in fnames:\n",
    "    src_path = os.path.join(original_data_dir, f)\n",
    "    dst_path = os.path.join(cats_test_dir, f)\n",
    "    shutil.copyfile(src_path, dst_path)"
   ]
  },
  {
   "cell_type": "code",
   "execution_count": 20,
   "id": "0bd694d5",
   "metadata": {},
   "outputs": [
    {
     "name": "stdout",
     "output_type": "stream",
     "text": [
      "[*] Number of Training Samples cats :  1000\n",
      "[*] Number of Validation samples cats :  500\n",
      "[*] Number of Testing samples cat :  500\n"
     ]
    }
   ],
   "source": [
    "print(\"[*] Number of Training Samples cats : \", len(os.listdir(cats_train_dir)))\n",
    "print(\"[*] Number of Validation samples cats : \", len(os.listdir(cats_val_dir)))\n",
    "print(\"[*] Number of Testing samples cat : \", len(os.listdir(cats_test_dir)))"
   ]
  },
  {
   "cell_type": "code",
   "execution_count": 22,
   "id": "339608bf",
   "metadata": {},
   "outputs": [],
   "source": [
    "### dogs training dir.\n",
    "fnames = [f'dog.{i}.jpg' for i in range(1000)]\n",
    "for f in fnames:\n",
    "    src_path = os.path.join(original_data_dir, f)\n",
    "    dst_path = os.path.join(dogs_train_dir, f)\n",
    "    shutil.copyfile(src_path, dst_path)"
   ]
  },
  {
   "cell_type": "code",
   "execution_count": null,
   "id": "88ab5e4e",
   "metadata": {},
   "outputs": [],
   "source": [
    "### dogs validation data.\n",
    "fnames = [f'dog.{i}.jpg' for i in range(1000, 1500)]\n",
    "for f in fnames:\n",
    "    src_path = os.path.join(original_data_dir, f)\n",
    "    dst_path = os.path.join(dogs_val_dir, f)\n",
    "    shutil.coy"
   ]
  }
 ],
 "metadata": {
  "kernelspec": {
   "display_name": "Python 3 (ipykernel)",
   "language": "python",
   "name": "python3"
  },
  "language_info": {
   "codemirror_mode": {
    "name": "ipython",
    "version": 3
   },
   "file_extension": ".py",
   "mimetype": "text/x-python",
   "name": "python",
   "nbconvert_exporter": "python",
   "pygments_lexer": "ipython3",
   "version": "3.8.10"
  }
 },
 "nbformat": 4,
 "nbformat_minor": 5
}
