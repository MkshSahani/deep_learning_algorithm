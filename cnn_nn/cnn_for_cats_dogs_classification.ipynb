{
 "cells": [
  {
   "cell_type": "code",
   "execution_count": 1,
   "id": "91784fa5",
   "metadata": {},
   "outputs": [
    {
     "name": "stderr",
     "output_type": "stream",
     "text": [
      "2024-06-13 12:34:54.778241: I tensorflow/core/platform/cpu_feature_guard.cc:193] This TensorFlow binary is optimized with oneAPI Deep Neural Network Library (oneDNN) to use the following CPU instructions in performance-critical operations:  AVX2 FMA\n",
      "To enable them in other operations, rebuild TensorFlow with the appropriate compiler flags.\n",
      "2024-06-13 12:34:55.301333: W tensorflow/stream_executor/platform/default/dso_loader.cc:64] Could not load dynamic library 'libcudart.so.11.0'; dlerror: libcudart.so.11.0: cannot open shared object file: No such file or directory\n",
      "2024-06-13 12:34:55.301387: I tensorflow/stream_executor/cuda/cudart_stub.cc:29] Ignore above cudart dlerror if you do not have a GPU set up on your machine.\n",
      "2024-06-13 12:34:55.383598: E tensorflow/stream_executor/cuda/cuda_blas.cc:2981] Unable to register cuBLAS factory: Attempting to register factory for plugin cuBLAS when one has already been registered\n",
      "2024-06-13 12:34:56.516212: W tensorflow/stream_executor/platform/default/dso_loader.cc:64] Could not load dynamic library 'libnvinfer.so.7'; dlerror: libnvinfer.so.7: cannot open shared object file: No such file or directory\n",
      "2024-06-13 12:34:56.516287: W tensorflow/stream_executor/platform/default/dso_loader.cc:64] Could not load dynamic library 'libnvinfer_plugin.so.7'; dlerror: libnvinfer_plugin.so.7: cannot open shared object file: No such file or directory\n",
      "2024-06-13 12:34:56.516295: W tensorflow/compiler/tf2tensorrt/utils/py_utils.cc:38] TF-TRT Warning: Cannot dlopen some TensorRT libraries. If you would like to use Nvidia GPU with TensorRT, please make sure the missing libraries mentioned above are installed properly.\n",
      "/usr/lib/python3/dist-packages/requests/__init__.py:89: RequestsDependencyWarning: urllib3 (2.0.5) or chardet (3.0.4) doesn't match a supported version!\n",
      "  warnings.warn(\"urllib3 ({}) or chardet ({}) doesn't match a supported \"\n"
     ]
    }
   ],
   "source": [
    "from keras import models, layers, optimizers"
   ]
  },
  {
   "cell_type": "code",
   "execution_count": 7,
   "id": "34bcccf1",
   "metadata": {},
   "outputs": [],
   "source": [
    "def build_model():\n",
    "    model = models.Sequential()\n",
    "    model.add(layers.Conv2D(32, (3, 3),activation = 'relu', input_shape = (150, 150, 3)))\n",
    "    model.add(layers.MaxPooling2D((2, 2)))\n",
    "    model.add(layers.Conv2D(64, (3, 3), activation = 'relu'))\n",
    "    model.add(layers.MaxPooling2D((2, 2)))\n",
    "    model.add(layers.Conv2D(128, (3, 3), activation = 'relu'))\n",
    "    model.add(layers.MaxPooling2D((2, 2)))\n",
    "    model.add(layers.Conv2D(128, (3, 3), activation = 'relu'))\n",
    "    model.add(layers.MaxPooling2D((2, 2)))\n",
    "    model.add(layers.Flatten())\n",
    "    model.add(layers.Dense(512, activation = 'relu'))\n",
    "    model.add(layers.Dense(1, activation = 'sigmoid'))\n",
    "    \n",
    "    model.compile(\n",
    "        optimizer = optimizers.RMSprop(learning_rate = 1e-4),\n",
    "        loss = 'binary_crossentropy',\n",
    "        metrics = ['acc']\n",
    "    )\n",
    "    \n",
    "    return model"
   ]
  },
  {
   "cell_type": "code",
   "execution_count": 8,
   "id": "348d3034",
   "metadata": {},
   "outputs": [],
   "source": [
    "model = build_model()"
   ]
  },
  {
   "cell_type": "code",
   "execution_count": 9,
   "id": "f5f73a6e",
   "metadata": {},
   "outputs": [
    {
     "name": "stdout",
     "output_type": "stream",
     "text": [
      "Model: \"sequential_2\"\n",
      "_________________________________________________________________\n",
      " Layer (type)                Output Shape              Param #   \n",
      "=================================================================\n",
      " conv2d_8 (Conv2D)           (None, 148, 148, 32)      896       \n",
      "                                                                 \n",
      " max_pooling2d_8 (MaxPooling  (None, 74, 74, 32)       0         \n",
      " 2D)                                                             \n",
      "                                                                 \n",
      " conv2d_9 (Conv2D)           (None, 72, 72, 64)        18496     \n",
      "                                                                 \n",
      " max_pooling2d_9 (MaxPooling  (None, 36, 36, 64)       0         \n",
      " 2D)                                                             \n",
      "                                                                 \n",
      " conv2d_10 (Conv2D)          (None, 34, 34, 128)       73856     \n",
      "                                                                 \n",
      " max_pooling2d_10 (MaxPoolin  (None, 17, 17, 128)      0         \n",
      " g2D)                                                            \n",
      "                                                                 \n",
      " conv2d_11 (Conv2D)          (None, 15, 15, 128)       147584    \n",
      "                                                                 \n",
      " max_pooling2d_11 (MaxPoolin  (None, 7, 7, 128)        0         \n",
      " g2D)                                                            \n",
      "                                                                 \n",
      " flatten_2 (Flatten)         (None, 6272)              0         \n",
      "                                                                 \n",
      " dense_4 (Dense)             (None, 512)               3211776   \n",
      "                                                                 \n",
      " dense_5 (Dense)             (None, 1)                 513       \n",
      "                                                                 \n",
      "=================================================================\n",
      "Total params: 3,453,121\n",
      "Trainable params: 3,453,121\n",
      "Non-trainable params: 0\n",
      "_________________________________________________________________\n"
     ]
    }
   ],
   "source": [
    "model.summary()"
   ]
  },
  {
   "cell_type": "code",
   "execution_count": 11,
   "id": "07a7081e",
   "metadata": {},
   "outputs": [],
   "source": [
    "from keras.preprocessing.image import ImageDataGenerator"
   ]
  },
  {
   "cell_type": "code",
   "execution_count": 14,
   "id": "6fe83341",
   "metadata": {},
   "outputs": [],
   "source": [
    "train_data_gen = ImageDataGenerator(\n",
    "    rescale = 1./255\n",
    ")\n",
    "val_data_gen = ImageDataGenerator(\n",
    "    rescale = 1./255\n",
    ")"
   ]
  },
  {
   "cell_type": "code",
   "execution_count": 17,
   "id": "be460c24",
   "metadata": {},
   "outputs": [
    {
     "name": "stdout",
     "output_type": "stream",
     "text": [
      "Found 2000 images belonging to 2 classes.\n"
     ]
    }
   ],
   "source": [
    "import os\n",
    "data_dir = '/home/mukesh/ml_dl_ds/deep_learning_algorithm/dataset'\n",
    "train_dir = os.path.join(data_dir, 'train')\n",
    "test_dir = os.path.join(data_dir, 'test')\n",
    "val_dir = os.path.join(data_dir, 'val')\n",
    "train_generator = train_data_gen.flow_from_directory(\n",
    "    train_dir,\n",
    "    batch_size = 20,\n",
    "    target_size = (150, 150),\n",
    "    class_mode = 'binary'\n",
    ")"
   ]
  },
  {
   "cell_type": "code",
   "execution_count": 18,
   "id": "cc44ce68",
   "metadata": {},
   "outputs": [
    {
     "name": "stdout",
     "output_type": "stream",
     "text": [
      "Found 1000 images belonging to 2 classes.\n"
     ]
    }
   ],
   "source": [
    "val_generator = val_data_gen.flow_from_directory(\n",
    "    val_dir,\n",
    "    batch_size = 20,\n",
    "    target_size = (150, 150),\n",
    "    class_mode = 'binary'\n",
    ")"
   ]
  },
  {
   "cell_type": "code",
   "execution_count": 21,
   "id": "b2dc81f7",
   "metadata": {},
   "outputs": [
    {
     "name": "stdout",
     "output_type": "stream",
     "text": [
      "Epoch 1/30\n"
     ]
    },
    {
     "name": "stderr",
     "output_type": "stream",
     "text": [
      "2024-06-13 12:51:53.220038: W tensorflow/core/framework/cpu_allocator_impl.cc:82] Allocation of 56074240 exceeds 10% of free system memory.\n",
      "2024-06-13 12:51:53.272310: W tensorflow/core/framework/cpu_allocator_impl.cc:82] Allocation of 14018560 exceeds 10% of free system memory.\n",
      "2024-06-13 12:51:53.279160: W tensorflow/core/framework/cpu_allocator_impl.cc:82] Allocation of 26542080 exceeds 10% of free system memory.\n",
      "2024-06-13 12:51:53.352516: W tensorflow/core/framework/cpu_allocator_impl.cc:82] Allocation of 19699200 exceeds 10% of free system memory.\n",
      "2024-06-13 12:51:53.352608: W tensorflow/core/framework/cpu_allocator_impl.cc:82] Allocation of 19699200 exceeds 10% of free system memory.\n"
     ]
    },
    {
     "name": "stdout",
     "output_type": "stream",
     "text": [
      "100/100 [==============================] - 41s 399ms/step - loss: 0.6883 - acc: 0.5265 - val_loss: 0.6634 - val_acc: 0.6190\n",
      "Epoch 2/30\n",
      "100/100 [==============================] - 42s 421ms/step - loss: 0.6571 - acc: 0.6055 - val_loss: 0.6547 - val_acc: 0.5890\n",
      "Epoch 3/30\n",
      "100/100 [==============================] - 43s 427ms/step - loss: 0.6131 - acc: 0.6595 - val_loss: 0.6026 - val_acc: 0.6840\n",
      "Epoch 4/30\n",
      "100/100 [==============================] - 44s 442ms/step - loss: 0.5692 - acc: 0.7065 - val_loss: 0.6337 - val_acc: 0.6340\n",
      "Epoch 5/30\n",
      "100/100 [==============================] - 43s 427ms/step - loss: 0.5362 - acc: 0.7225 - val_loss: 0.5811 - val_acc: 0.6890\n",
      "Epoch 6/30\n",
      "100/100 [==============================] - 43s 432ms/step - loss: 0.5105 - acc: 0.7445 - val_loss: 0.5650 - val_acc: 0.7120\n",
      "Epoch 7/30\n",
      "100/100 [==============================] - 43s 432ms/step - loss: 0.4757 - acc: 0.7695 - val_loss: 0.6543 - val_acc: 0.6480\n",
      "Epoch 8/30\n",
      "100/100 [==============================] - 43s 434ms/step - loss: 0.4515 - acc: 0.7845 - val_loss: 0.5973 - val_acc: 0.6830\n",
      "Epoch 9/30\n",
      "100/100 [==============================] - 44s 438ms/step - loss: 0.4268 - acc: 0.8010 - val_loss: 0.6125 - val_acc: 0.6790\n",
      "Epoch 10/30\n",
      "100/100 [==============================] - 44s 439ms/step - loss: 0.3949 - acc: 0.8260 - val_loss: 0.5361 - val_acc: 0.7320\n",
      "Epoch 11/30\n",
      "100/100 [==============================] - 44s 440ms/step - loss: 0.3735 - acc: 0.8345 - val_loss: 0.5562 - val_acc: 0.7260\n",
      "Epoch 12/30\n",
      "100/100 [==============================] - 44s 440ms/step - loss: 0.3429 - acc: 0.8490 - val_loss: 0.5620 - val_acc: 0.7240\n",
      "Epoch 13/30\n",
      "100/100 [==============================] - 44s 442ms/step - loss: 0.3279 - acc: 0.8575 - val_loss: 0.5643 - val_acc: 0.7220\n",
      "Epoch 14/30\n",
      "100/100 [==============================] - 44s 444ms/step - loss: 0.2978 - acc: 0.8770 - val_loss: 0.5560 - val_acc: 0.7290\n",
      "Epoch 15/30\n",
      "100/100 [==============================] - 44s 444ms/step - loss: 0.2779 - acc: 0.8820 - val_loss: 0.5618 - val_acc: 0.7380\n",
      "Epoch 16/30\n",
      "100/100 [==============================] - 44s 445ms/step - loss: 0.2530 - acc: 0.9070 - val_loss: 0.6098 - val_acc: 0.7230\n",
      "Epoch 17/30\n",
      "100/100 [==============================] - 45s 446ms/step - loss: 0.2353 - acc: 0.9120 - val_loss: 0.5864 - val_acc: 0.7370\n",
      "Epoch 18/30\n",
      "100/100 [==============================] - 44s 444ms/step - loss: 0.2134 - acc: 0.9140 - val_loss: 0.6034 - val_acc: 0.7400\n",
      "Epoch 19/30\n",
      "100/100 [==============================] - 44s 445ms/step - loss: 0.1905 - acc: 0.9270 - val_loss: 0.5957 - val_acc: 0.7450\n",
      "Epoch 20/30\n",
      "100/100 [==============================] - 45s 446ms/step - loss: 0.1736 - acc: 0.9415 - val_loss: 0.6572 - val_acc: 0.7420\n",
      "Epoch 21/30\n",
      "100/100 [==============================] - 44s 444ms/step - loss: 0.1482 - acc: 0.9525 - val_loss: 0.7058 - val_acc: 0.7440\n",
      "Epoch 22/30\n",
      "100/100 [==============================] - 45s 447ms/step - loss: 0.1361 - acc: 0.9540 - val_loss: 0.6670 - val_acc: 0.7480\n",
      "Epoch 23/30\n",
      "100/100 [==============================] - 44s 445ms/step - loss: 0.1175 - acc: 0.9620 - val_loss: 0.7068 - val_acc: 0.7530\n",
      "Epoch 24/30\n",
      "100/100 [==============================] - 46s 459ms/step - loss: 0.1058 - acc: 0.9695 - val_loss: 0.7672 - val_acc: 0.7430\n",
      "Epoch 25/30\n",
      "100/100 [==============================] - 46s 455ms/step - loss: 0.0904 - acc: 0.9715 - val_loss: 0.7480 - val_acc: 0.7550\n",
      "Epoch 26/30\n",
      "100/100 [==============================] - 45s 448ms/step - loss: 0.0726 - acc: 0.9775 - val_loss: 0.8695 - val_acc: 0.7390\n",
      "Epoch 27/30\n",
      "100/100 [==============================] - 45s 450ms/step - loss: 0.0681 - acc: 0.9790 - val_loss: 0.8587 - val_acc: 0.7350\n",
      "Epoch 28/30\n",
      "100/100 [==============================] - 45s 450ms/step - loss: 0.0584 - acc: 0.9850 - val_loss: 0.9191 - val_acc: 0.7180\n",
      "Epoch 29/30\n",
      "100/100 [==============================] - 45s 450ms/step - loss: 0.0448 - acc: 0.9910 - val_loss: 0.9470 - val_acc: 0.7240\n",
      "Epoch 30/30\n",
      "100/100 [==============================] - 45s 450ms/step - loss: 0.0391 - acc: 0.9910 - val_loss: 0.9585 - val_acc: 0.7350\n"
     ]
    }
   ],
   "source": [
    "history = model.fit(\n",
    "    train_generator,\n",
    "    epochs = 30,\n",
    "    steps_per_epoch = 100,\n",
    "    validation_data = val_generator,\n",
    "    validation_steps = 50\n",
    ")"
   ]
  },
  {
   "cell_type": "code",
   "execution_count": 22,
   "id": "e5fbf5bb",
   "metadata": {},
   "outputs": [],
   "source": [
    "hist = history.history"
   ]
  },
  {
   "cell_type": "code",
   "execution_count": 23,
   "id": "c917a1f8",
   "metadata": {},
   "outputs": [
    {
     "data": {
      "image/png": "[encoded data removed]",
      "text/plain": [
       "<Figure size 432x288 with 1 Axes>"
      ]
     },
     "metadata": {
      "needs_background": "light"
     },
     "output_type": "display_data"
    }
   ],
   "source": [
    "## plot loss of training and validation data set.\n",
    "import matplotlib.pyplot as plt\n",
    "plt.scatter(range(len(hist['loss'])), hist['loss'], label = 'Training Loss')\n",
    "plt.plot(range(len(hist['val_loss'])), hist['val_loss'], label = 'Validation Loss')\n",
    "plt.legend()\n",
    "plt.show()"
   ]
  },
  {
   "cell_type": "code",
   "execution_count": 24,
   "id": "076f6134",
   "metadata": {},
   "outputs": [],
   "source": [
    "model.save('basic_cat_dog_cnn_model.h5')"
   ]
  },
  {
   "cell_type": "code",
   "execution_count": 25,
   "id": "9afd9217",
   "metadata": {},
   "outputs": [
    {
     "data": {
      "image/png": "[encoded data removed]",
      "text/plain": [
       "<Figure size 432x288 with 1 Axes>"
      ]
     },
     "metadata": {
      "needs_background": "light"
     },
     "output_type": "display_data"
    }
   ],
   "source": [
    "plt.scatter(range(len(hist['acc'])), hist['acc'], label = 'Training Accuracy')\n",
    "plt.plot(range(len(hist['val_acc'])), hist['val_acc'], label = 'Validation Accuracy')\n",
    "plt.legend()\n",
    "plt.show()"
   ]
  },
  {
   "cell_type": "code",
   "execution_count": null,
   "id": "dcb2f90b",
   "metadata": {},
   "outputs": [],
   "source": []
  }
 ],
 "metadata": {
  "kernelspec": {
   "display_name": "Python 3 (ipykernel)",
   "language": "python",
   "name": "python3"
  },
  "language_info": {
   "codemirror_mode": {
    "name": "ipython",
    "version": 3
   },
   "file_extension": ".py",
   "mimetype": "text/x-python",
   "name": "python",
   "nbconvert_exporter": "python",
   "pygments_lexer": "ipython3",
   "version": "3.8.10"
  }
 },
 "nbformat": 4,
 "nbformat_minor": 5
}
